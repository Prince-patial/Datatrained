{
 "cells": [
  {
   "cell_type": "markdown",
   "metadata": {},
   "source": [
    "Import necessary Libraries and load data"
   ]
  },
  {
   "cell_type": "code",
   "execution_count": 2,
   "metadata": {},
   "outputs": [
    {
     "data": {
      "text/html": [
       "<div>\n",
       "<style scoped>\n",
       "    .dataframe tbody tr th:only-of-type {\n",
       "        vertical-align: middle;\n",
       "    }\n",
       "\n",
       "    .dataframe tbody tr th {\n",
       "        vertical-align: top;\n",
       "    }\n",
       "\n",
       "    .dataframe thead th {\n",
       "        text-align: right;\n",
       "    }\n",
       "</style>\n",
       "<table border=\"1\" class=\"dataframe\">\n",
       "  <thead>\n",
       "    <tr style=\"text-align: right;\">\n",
       "      <th></th>\n",
       "      <th>Country</th>\n",
       "      <th>Region</th>\n",
       "      <th>Happiness Rank</th>\n",
       "      <th>Happiness Score</th>\n",
       "      <th>Standard Error</th>\n",
       "      <th>Economy (GDP per Capita)</th>\n",
       "      <th>Family</th>\n",
       "      <th>Health (Life Expectancy)</th>\n",
       "      <th>Freedom</th>\n",
       "      <th>Trust (Government Corruption)</th>\n",
       "      <th>Generosity</th>\n",
       "      <th>Dystopia Residual</th>\n",
       "    </tr>\n",
       "  </thead>\n",
       "  <tbody>\n",
       "    <tr>\n",
       "      <th>0</th>\n",
       "      <td>Switzerland</td>\n",
       "      <td>Western Europe</td>\n",
       "      <td>1</td>\n",
       "      <td>7.587</td>\n",
       "      <td>0.03411</td>\n",
       "      <td>1.39651</td>\n",
       "      <td>1.34951</td>\n",
       "      <td>0.94143</td>\n",
       "      <td>0.66557</td>\n",
       "      <td>0.41978</td>\n",
       "      <td>0.29678</td>\n",
       "      <td>2.51738</td>\n",
       "    </tr>\n",
       "    <tr>\n",
       "      <th>1</th>\n",
       "      <td>Iceland</td>\n",
       "      <td>Western Europe</td>\n",
       "      <td>2</td>\n",
       "      <td>7.561</td>\n",
       "      <td>0.04884</td>\n",
       "      <td>1.30232</td>\n",
       "      <td>1.40223</td>\n",
       "      <td>0.94784</td>\n",
       "      <td>0.62877</td>\n",
       "      <td>0.14145</td>\n",
       "      <td>0.43630</td>\n",
       "      <td>2.70201</td>\n",
       "    </tr>\n",
       "    <tr>\n",
       "      <th>2</th>\n",
       "      <td>Denmark</td>\n",
       "      <td>Western Europe</td>\n",
       "      <td>3</td>\n",
       "      <td>7.527</td>\n",
       "      <td>0.03328</td>\n",
       "      <td>1.32548</td>\n",
       "      <td>1.36058</td>\n",
       "      <td>0.87464</td>\n",
       "      <td>0.64938</td>\n",
       "      <td>0.48357</td>\n",
       "      <td>0.34139</td>\n",
       "      <td>2.49204</td>\n",
       "    </tr>\n",
       "    <tr>\n",
       "      <th>3</th>\n",
       "      <td>Norway</td>\n",
       "      <td>Western Europe</td>\n",
       "      <td>4</td>\n",
       "      <td>7.522</td>\n",
       "      <td>0.03880</td>\n",
       "      <td>1.45900</td>\n",
       "      <td>1.33095</td>\n",
       "      <td>0.88521</td>\n",
       "      <td>0.66973</td>\n",
       "      <td>0.36503</td>\n",
       "      <td>0.34699</td>\n",
       "      <td>2.46531</td>\n",
       "    </tr>\n",
       "    <tr>\n",
       "      <th>4</th>\n",
       "      <td>Canada</td>\n",
       "      <td>North America</td>\n",
       "      <td>5</td>\n",
       "      <td>7.427</td>\n",
       "      <td>0.03553</td>\n",
       "      <td>1.32629</td>\n",
       "      <td>1.32261</td>\n",
       "      <td>0.90563</td>\n",
       "      <td>0.63297</td>\n",
       "      <td>0.32957</td>\n",
       "      <td>0.45811</td>\n",
       "      <td>2.45176</td>\n",
       "    </tr>\n",
       "  </tbody>\n",
       "</table>\n",
       "</div>"
      ],
      "text/plain": [
       "       Country          Region  Happiness Rank  Happiness Score  \\\n",
       "0  Switzerland  Western Europe               1            7.587   \n",
       "1      Iceland  Western Europe               2            7.561   \n",
       "2      Denmark  Western Europe               3            7.527   \n",
       "3       Norway  Western Europe               4            7.522   \n",
       "4       Canada   North America               5            7.427   \n",
       "\n",
       "   Standard Error  Economy (GDP per Capita)   Family  \\\n",
       "0         0.03411                   1.39651  1.34951   \n",
       "1         0.04884                   1.30232  1.40223   \n",
       "2         0.03328                   1.32548  1.36058   \n",
       "3         0.03880                   1.45900  1.33095   \n",
       "4         0.03553                   1.32629  1.32261   \n",
       "\n",
       "   Health (Life Expectancy)  Freedom  Trust (Government Corruption)  \\\n",
       "0                   0.94143  0.66557                        0.41978   \n",
       "1                   0.94784  0.62877                        0.14145   \n",
       "2                   0.87464  0.64938                        0.48357   \n",
       "3                   0.88521  0.66973                        0.36503   \n",
       "4                   0.90563  0.63297                        0.32957   \n",
       "\n",
       "   Generosity  Dystopia Residual  \n",
       "0     0.29678            2.51738  \n",
       "1     0.43630            2.70201  \n",
       "2     0.34139            2.49204  \n",
       "3     0.34699            2.46531  \n",
       "4     0.45811            2.45176  "
      ]
     },
     "execution_count": 2,
     "metadata": {},
     "output_type": "execute_result"
    }
   ],
   "source": [
    "import pandas as pd\n",
    "import numpy as np\n",
    "from sklearn.preprocessing import StandardScaler\n",
    "from sklearn.linear_model import LinearRegression\n",
    "from sklearn.model_selection import train_test_split\n",
    "from statsmodels.stats.outliers_influence import variance_inflation_factor\n",
    "from sklearn.metrics import accuracy_score, confusion_matrix, classification_report, roc_curve, roc_auc_score\n",
    "import statsmodels.api as sm\n",
    "import matplotlib.pyplot as plt\n",
    "import seaborn as sns\n",
    "import pickle\n",
    "import warnings\n",
    "warnings.filterwarnings('ignore')\n",
    "\n",
    "df = pd.read_csv('https://raw.githubusercontent.com/dsrscientist/DSData/master/happiness_score_dataset.csv')\n",
    "df.head()      "
   ]
  },
  {
   "cell_type": "markdown",
   "metadata": {},
   "source": [
    "Let's check the shape of our dataset"
   ]
  },
  {
   "cell_type": "code",
   "execution_count": 3,
   "metadata": {},
   "outputs": [
    {
     "data": {
      "text/plain": [
       "(158, 12)"
      ]
     },
     "execution_count": 3,
     "metadata": {},
     "output_type": "execute_result"
    }
   ],
   "source": [
    "df.shape"
   ]
  },
  {
   "cell_type": "markdown",
   "metadata": {},
   "source": [
    "There are 158 Rows and 12 Columns\n"
   ]
  },
  {
   "cell_type": "code",
   "execution_count": 4,
   "metadata": {},
   "outputs": [
    {
     "name": "stdout",
     "output_type": "stream",
     "text": [
      "<class 'pandas.core.frame.DataFrame'>\n",
      "RangeIndex: 158 entries, 0 to 157\n",
      "Data columns (total 12 columns):\n",
      " #   Column                         Non-Null Count  Dtype  \n",
      "---  ------                         --------------  -----  \n",
      " 0   Country                        158 non-null    object \n",
      " 1   Region                         158 non-null    object \n",
      " 2   Happiness Rank                 158 non-null    int64  \n",
      " 3   Happiness Score                158 non-null    float64\n",
      " 4   Standard Error                 158 non-null    float64\n",
      " 5   Economy (GDP per Capita)       158 non-null    float64\n",
      " 6   Family                         158 non-null    float64\n",
      " 7   Health (Life Expectancy)       158 non-null    float64\n",
      " 8   Freedom                        158 non-null    float64\n",
      " 9   Trust (Government Corruption)  158 non-null    float64\n",
      " 10  Generosity                     158 non-null    float64\n",
      " 11  Dystopia Residual              158 non-null    float64\n",
      "dtypes: float64(9), int64(1), object(2)\n",
      "memory usage: 14.9+ KB\n"
     ]
    }
   ],
   "source": [
    "df.info()"
   ]
  },
  {
   "cell_type": "markdown",
   "metadata": {},
   "source": [
    "There is no Null values and country and region column are of object data type"
   ]
  },
  {
   "cell_type": "code",
   "execution_count": 5,
   "metadata": {},
   "outputs": [
    {
     "data": {
      "text/html": [
       "<div>\n",
       "<style scoped>\n",
       "    .dataframe tbody tr th:only-of-type {\n",
       "        vertical-align: middle;\n",
       "    }\n",
       "\n",
       "    .dataframe tbody tr th {\n",
       "        vertical-align: top;\n",
       "    }\n",
       "\n",
       "    .dataframe thead th {\n",
       "        text-align: right;\n",
       "    }\n",
       "</style>\n",
       "<table border=\"1\" class=\"dataframe\">\n",
       "  <thead>\n",
       "    <tr style=\"text-align: right;\">\n",
       "      <th></th>\n",
       "      <th>Happiness Rank</th>\n",
       "      <th>Happiness Score</th>\n",
       "      <th>Standard Error</th>\n",
       "      <th>Economy (GDP per Capita)</th>\n",
       "      <th>Family</th>\n",
       "      <th>Health (Life Expectancy)</th>\n",
       "      <th>Freedom</th>\n",
       "      <th>Trust (Government Corruption)</th>\n",
       "      <th>Generosity</th>\n",
       "      <th>Dystopia Residual</th>\n",
       "    </tr>\n",
       "  </thead>\n",
       "  <tbody>\n",
       "    <tr>\n",
       "      <th>count</th>\n",
       "      <td>158.000000</td>\n",
       "      <td>158.000000</td>\n",
       "      <td>158.000000</td>\n",
       "      <td>158.000000</td>\n",
       "      <td>158.000000</td>\n",
       "      <td>158.000000</td>\n",
       "      <td>158.000000</td>\n",
       "      <td>158.000000</td>\n",
       "      <td>158.000000</td>\n",
       "      <td>158.000000</td>\n",
       "    </tr>\n",
       "    <tr>\n",
       "      <th>mean</th>\n",
       "      <td>79.493671</td>\n",
       "      <td>5.375734</td>\n",
       "      <td>0.047885</td>\n",
       "      <td>0.846137</td>\n",
       "      <td>0.991046</td>\n",
       "      <td>0.630259</td>\n",
       "      <td>0.428615</td>\n",
       "      <td>0.143422</td>\n",
       "      <td>0.237296</td>\n",
       "      <td>2.098977</td>\n",
       "    </tr>\n",
       "    <tr>\n",
       "      <th>std</th>\n",
       "      <td>45.754363</td>\n",
       "      <td>1.145010</td>\n",
       "      <td>0.017146</td>\n",
       "      <td>0.403121</td>\n",
       "      <td>0.272369</td>\n",
       "      <td>0.247078</td>\n",
       "      <td>0.150693</td>\n",
       "      <td>0.120034</td>\n",
       "      <td>0.126685</td>\n",
       "      <td>0.553550</td>\n",
       "    </tr>\n",
       "    <tr>\n",
       "      <th>min</th>\n",
       "      <td>1.000000</td>\n",
       "      <td>2.839000</td>\n",
       "      <td>0.018480</td>\n",
       "      <td>0.000000</td>\n",
       "      <td>0.000000</td>\n",
       "      <td>0.000000</td>\n",
       "      <td>0.000000</td>\n",
       "      <td>0.000000</td>\n",
       "      <td>0.000000</td>\n",
       "      <td>0.328580</td>\n",
       "    </tr>\n",
       "    <tr>\n",
       "      <th>25%</th>\n",
       "      <td>40.250000</td>\n",
       "      <td>4.526000</td>\n",
       "      <td>0.037268</td>\n",
       "      <td>0.545808</td>\n",
       "      <td>0.856823</td>\n",
       "      <td>0.439185</td>\n",
       "      <td>0.328330</td>\n",
       "      <td>0.061675</td>\n",
       "      <td>0.150553</td>\n",
       "      <td>1.759410</td>\n",
       "    </tr>\n",
       "    <tr>\n",
       "      <th>50%</th>\n",
       "      <td>79.500000</td>\n",
       "      <td>5.232500</td>\n",
       "      <td>0.043940</td>\n",
       "      <td>0.910245</td>\n",
       "      <td>1.029510</td>\n",
       "      <td>0.696705</td>\n",
       "      <td>0.435515</td>\n",
       "      <td>0.107220</td>\n",
       "      <td>0.216130</td>\n",
       "      <td>2.095415</td>\n",
       "    </tr>\n",
       "    <tr>\n",
       "      <th>75%</th>\n",
       "      <td>118.750000</td>\n",
       "      <td>6.243750</td>\n",
       "      <td>0.052300</td>\n",
       "      <td>1.158448</td>\n",
       "      <td>1.214405</td>\n",
       "      <td>0.811013</td>\n",
       "      <td>0.549092</td>\n",
       "      <td>0.180255</td>\n",
       "      <td>0.309883</td>\n",
       "      <td>2.462415</td>\n",
       "    </tr>\n",
       "    <tr>\n",
       "      <th>max</th>\n",
       "      <td>158.000000</td>\n",
       "      <td>7.587000</td>\n",
       "      <td>0.136930</td>\n",
       "      <td>1.690420</td>\n",
       "      <td>1.402230</td>\n",
       "      <td>1.025250</td>\n",
       "      <td>0.669730</td>\n",
       "      <td>0.551910</td>\n",
       "      <td>0.795880</td>\n",
       "      <td>3.602140</td>\n",
       "    </tr>\n",
       "  </tbody>\n",
       "</table>\n",
       "</div>"
      ],
      "text/plain": [
       "       Happiness Rank  Happiness Score  Standard Error  \\\n",
       "count      158.000000       158.000000      158.000000   \n",
       "mean        79.493671         5.375734        0.047885   \n",
       "std         45.754363         1.145010        0.017146   \n",
       "min          1.000000         2.839000        0.018480   \n",
       "25%         40.250000         4.526000        0.037268   \n",
       "50%         79.500000         5.232500        0.043940   \n",
       "75%        118.750000         6.243750        0.052300   \n",
       "max        158.000000         7.587000        0.136930   \n",
       "\n",
       "       Economy (GDP per Capita)      Family  Health (Life Expectancy)  \\\n",
       "count                158.000000  158.000000                158.000000   \n",
       "mean                   0.846137    0.991046                  0.630259   \n",
       "std                    0.403121    0.272369                  0.247078   \n",
       "min                    0.000000    0.000000                  0.000000   \n",
       "25%                    0.545808    0.856823                  0.439185   \n",
       "50%                    0.910245    1.029510                  0.696705   \n",
       "75%                    1.158448    1.214405                  0.811013   \n",
       "max                    1.690420    1.402230                  1.025250   \n",
       "\n",
       "          Freedom  Trust (Government Corruption)  Generosity  \\\n",
       "count  158.000000                     158.000000  158.000000   \n",
       "mean     0.428615                       0.143422    0.237296   \n",
       "std      0.150693                       0.120034    0.126685   \n",
       "min      0.000000                       0.000000    0.000000   \n",
       "25%      0.328330                       0.061675    0.150553   \n",
       "50%      0.435515                       0.107220    0.216130   \n",
       "75%      0.549092                       0.180255    0.309883   \n",
       "max      0.669730                       0.551910    0.795880   \n",
       "\n",
       "       Dystopia Residual  \n",
       "count         158.000000  \n",
       "mean            2.098977  \n",
       "std             0.553550  \n",
       "min             0.328580  \n",
       "25%             1.759410  \n",
       "50%             2.095415  \n",
       "75%             2.462415  \n",
       "max             3.602140  "
      ]
     },
     "execution_count": 5,
     "metadata": {},
     "output_type": "execute_result"
    }
   ],
   "source": [
    "df.describe()"
   ]
  },
  {
   "cell_type": "code",
   "execution_count": 6,
   "metadata": {},
   "outputs": [
    {
     "data": {
      "text/plain": [
       "Country                          0\n",
       "Region                           0\n",
       "Happiness Rank                   0\n",
       "Happiness Score                  0\n",
       "Standard Error                   0\n",
       "Economy (GDP per Capita)         0\n",
       "Family                           0\n",
       "Health (Life Expectancy)         0\n",
       "Freedom                          0\n",
       "Trust (Government Corruption)    0\n",
       "Generosity                       0\n",
       "Dystopia Residual                0\n",
       "dtype: int64"
      ]
     },
     "execution_count": 6,
     "metadata": {},
     "output_type": "execute_result"
    }
   ],
   "source": [
    "df.isna().sum()"
   ]
  },
  {
   "cell_type": "markdown",
   "metadata": {},
   "source": [
    "There are 0 null values in this dataset"
   ]
  },
  {
   "cell_type": "code",
   "execution_count": 7,
   "metadata": {},
   "outputs": [],
   "source": [
    "\n"
   ]
  },
  {
   "cell_type": "code",
   "execution_count": null,
   "metadata": {},
   "outputs": [],
   "source": []
  },
  {
   "cell_type": "code",
   "execution_count": null,
   "metadata": {},
   "outputs": [],
   "source": [
    "\n"
   ]
  },
  {
   "cell_type": "raw",
   "metadata": {},
   "source": []
  },
  {
   "cell_type": "code",
   "execution_count": null,
   "metadata": {},
   "outputs": [],
   "source": []
  },
  {
   "cell_type": "markdown",
   "metadata": {},
   "source": [
    "Let's check the distribution of our data but first remove the data which is of Object data type"
   ]
  },
  {
   "cell_type": "code",
   "execution_count": 118,
   "metadata": {},
   "outputs": [],
   "source": [
    "df2=df.drop(columns=['Country','Region'])"
   ]
  },
  {
   "cell_type": "code",
   "execution_count": 119,
   "metadata": {},
   "outputs": [
    {
     "data": {
      "image/png": "[encoded data removed]",
      "text/plain": [
       "<Figure size 1440x1440 with 8 Axes>"
      ]
     },
     "metadata": {},
     "output_type": "display_data"
    }
   ],
   "source": [
    "plt.figure(figsize =(20,20), facecolor = 'white')\n",
    "plotnumber=1\n",
    "\n",
    "for column in df2:\n",
    "    if plotnumber<=8:\n",
    "         ax=plt.subplot(2,4,plotnumber)\n",
    "         sns.distplot(df2[column])\n",
    "         plt.xlabel(column,fontsize=15)\n",
    "    plotnumber+=1\n",
    "plt.tight_layout()"
   ]
  },
  {
   "cell_type": "code",
   "execution_count": 12,
   "metadata": {},
   "outputs": [],
   "source": []
  },
  {
   "cell_type": "code",
   "execution_count": 13,
   "metadata": {},
   "outputs": [],
   "source": []
  },
  {
   "cell_type": "code",
   "execution_count": 14,
   "metadata": {},
   "outputs": [],
   "source": []
  },
  {
   "cell_type": "code",
   "execution_count": 15,
   "metadata": {},
   "outputs": [],
   "source": []
  },
  {
   "cell_type": "code",
   "execution_count": 16,
   "metadata": {},
   "outputs": [],
   "source": []
  },
  {
   "cell_type": "code",
   "execution_count": 17,
   "metadata": {},
   "outputs": [],
   "source": []
  },
  {
   "cell_type": "code",
   "execution_count": 18,
   "metadata": {},
   "outputs": [],
   "source": []
  },
  {
   "cell_type": "markdown",
   "metadata": {},
   "source": [
    "Let's observe  the relationship between the independent variables and dependent variables\n"
   ]
  },
  {
   "cell_type": "code",
   "execution_count": 121,
   "metadata": {},
   "outputs": [
    {
     "data": {
      "image/png": "[encoded data removed]",
      "text/plain": [
       "<Figure size 1080x1800 with 9 Axes>"
      ]
     },
     "metadata": {},
     "output_type": "display_data"
    }
   ],
   "source": [
    "#Visualizing Relationship\n",
    "plt.figure(figsize=(15,25), facecolor='white')\n",
    "plotnumber=1\n",
    "\n",
    "for column in X:\n",
    "    if plotnumber<=11:\n",
    "        ax=plt.subplot(6,2,plotnumber)\n",
    "        plt.scatter(X[column],Y)\n",
    "        plt.xlabel(column,fontsize=20)\n",
    "        plt.ylabel('Happiness Score',fontsize=20)\n",
    "    plotnumber+=1\n",
    "plt.tight_layout()"
   ]
  },
  {
   "cell_type": "markdown",
   "metadata": {},
   "source": [
    "Here we can see that Standard error, Trust(Government corruption) and generosity are not much correlated, hence we prefer to drop these columns"
   ]
  },
  {
   "cell_type": "code",
   "execution_count": 122,
   "metadata": {},
   "outputs": [],
   "source": [
    "#Divide dataset into features and variables\n",
    "Y=df2['Happiness Score']\n",
    "X=df2.drop(columns=['Happiness Score'])"
   ]
  },
  {
   "cell_type": "code",
   "execution_count": 123,
   "metadata": {},
   "outputs": [
    {
     "data": {
      "text/plain": [
       "0      7.587\n",
       "1      7.561\n",
       "2      7.527\n",
       "3      7.522\n",
       "4      7.427\n",
       "       ...  \n",
       "153    3.465\n",
       "154    3.340\n",
       "155    3.006\n",
       "156    2.905\n",
       "157    2.839\n",
       "Name: Happiness Score, Length: 158, dtype: float64"
      ]
     },
     "execution_count": 123,
     "metadata": {},
     "output_type": "execute_result"
    }
   ],
   "source": [
    "Y"
   ]
  },
  {
   "cell_type": "code",
   "execution_count": 124,
   "metadata": {},
   "outputs": [
    {
     "data": {
      "text/html": [
       "<div>\n",
       "<style scoped>\n",
       "    .dataframe tbody tr th:only-of-type {\n",
       "        vertical-align: middle;\n",
       "    }\n",
       "\n",
       "    .dataframe tbody tr th {\n",
       "        vertical-align: top;\n",
       "    }\n",
       "\n",
       "    .dataframe thead th {\n",
       "        text-align: right;\n",
       "    }\n",
       "</style>\n",
       "<table border=\"1\" class=\"dataframe\">\n",
       "  <thead>\n",
       "    <tr style=\"text-align: right;\">\n",
       "      <th></th>\n",
       "      <th>Happiness Rank</th>\n",
       "      <th>Standard Error</th>\n",
       "      <th>Economy (GDP per Capita)</th>\n",
       "      <th>Family</th>\n",
       "      <th>Health (Life Expectancy)</th>\n",
       "      <th>Freedom</th>\n",
       "      <th>Trust (Government Corruption)</th>\n",
       "      <th>Generosity</th>\n",
       "      <th>Dystopia Residual</th>\n",
       "    </tr>\n",
       "  </thead>\n",
       "  <tbody>\n",
       "    <tr>\n",
       "      <th>0</th>\n",
       "      <td>1</td>\n",
       "      <td>0.03411</td>\n",
       "      <td>1.39651</td>\n",
       "      <td>1.34951</td>\n",
       "      <td>0.94143</td>\n",
       "      <td>0.66557</td>\n",
       "      <td>0.41978</td>\n",
       "      <td>0.29678</td>\n",
       "      <td>2.51738</td>\n",
       "    </tr>\n",
       "    <tr>\n",
       "      <th>1</th>\n",
       "      <td>2</td>\n",
       "      <td>0.04884</td>\n",
       "      <td>1.30232</td>\n",
       "      <td>1.40223</td>\n",
       "      <td>0.94784</td>\n",
       "      <td>0.62877</td>\n",
       "      <td>0.14145</td>\n",
       "      <td>0.43630</td>\n",
       "      <td>2.70201</td>\n",
       "    </tr>\n",
       "    <tr>\n",
       "      <th>2</th>\n",
       "      <td>3</td>\n",
       "      <td>0.03328</td>\n",
       "      <td>1.32548</td>\n",
       "      <td>1.36058</td>\n",
       "      <td>0.87464</td>\n",
       "      <td>0.64938</td>\n",
       "      <td>0.48357</td>\n",
       "      <td>0.34139</td>\n",
       "      <td>2.49204</td>\n",
       "    </tr>\n",
       "    <tr>\n",
       "      <th>3</th>\n",
       "      <td>4</td>\n",
       "      <td>0.03880</td>\n",
       "      <td>1.45900</td>\n",
       "      <td>1.33095</td>\n",
       "      <td>0.88521</td>\n",
       "      <td>0.66973</td>\n",
       "      <td>0.36503</td>\n",
       "      <td>0.34699</td>\n",
       "      <td>2.46531</td>\n",
       "    </tr>\n",
       "    <tr>\n",
       "      <th>4</th>\n",
       "      <td>5</td>\n",
       "      <td>0.03553</td>\n",
       "      <td>1.32629</td>\n",
       "      <td>1.32261</td>\n",
       "      <td>0.90563</td>\n",
       "      <td>0.63297</td>\n",
       "      <td>0.32957</td>\n",
       "      <td>0.45811</td>\n",
       "      <td>2.45176</td>\n",
       "    </tr>\n",
       "    <tr>\n",
       "      <th>...</th>\n",
       "      <td>...</td>\n",
       "      <td>...</td>\n",
       "      <td>...</td>\n",
       "      <td>...</td>\n",
       "      <td>...</td>\n",
       "      <td>...</td>\n",
       "      <td>...</td>\n",
       "      <td>...</td>\n",
       "      <td>...</td>\n",
       "    </tr>\n",
       "    <tr>\n",
       "      <th>153</th>\n",
       "      <td>154</td>\n",
       "      <td>0.03464</td>\n",
       "      <td>0.22208</td>\n",
       "      <td>0.77370</td>\n",
       "      <td>0.42864</td>\n",
       "      <td>0.59201</td>\n",
       "      <td>0.55191</td>\n",
       "      <td>0.22628</td>\n",
       "      <td>0.67042</td>\n",
       "    </tr>\n",
       "    <tr>\n",
       "      <th>154</th>\n",
       "      <td>155</td>\n",
       "      <td>0.03656</td>\n",
       "      <td>0.28665</td>\n",
       "      <td>0.35386</td>\n",
       "      <td>0.31910</td>\n",
       "      <td>0.48450</td>\n",
       "      <td>0.08010</td>\n",
       "      <td>0.18260</td>\n",
       "      <td>1.63328</td>\n",
       "    </tr>\n",
       "    <tr>\n",
       "      <th>155</th>\n",
       "      <td>156</td>\n",
       "      <td>0.05015</td>\n",
       "      <td>0.66320</td>\n",
       "      <td>0.47489</td>\n",
       "      <td>0.72193</td>\n",
       "      <td>0.15684</td>\n",
       "      <td>0.18906</td>\n",
       "      <td>0.47179</td>\n",
       "      <td>0.32858</td>\n",
       "    </tr>\n",
       "    <tr>\n",
       "      <th>156</th>\n",
       "      <td>157</td>\n",
       "      <td>0.08658</td>\n",
       "      <td>0.01530</td>\n",
       "      <td>0.41587</td>\n",
       "      <td>0.22396</td>\n",
       "      <td>0.11850</td>\n",
       "      <td>0.10062</td>\n",
       "      <td>0.19727</td>\n",
       "      <td>1.83302</td>\n",
       "    </tr>\n",
       "    <tr>\n",
       "      <th>157</th>\n",
       "      <td>158</td>\n",
       "      <td>0.06727</td>\n",
       "      <td>0.20868</td>\n",
       "      <td>0.13995</td>\n",
       "      <td>0.28443</td>\n",
       "      <td>0.36453</td>\n",
       "      <td>0.10731</td>\n",
       "      <td>0.16681</td>\n",
       "      <td>1.56726</td>\n",
       "    </tr>\n",
       "  </tbody>\n",
       "</table>\n",
       "<p>158 rows × 9 columns</p>\n",
       "</div>"
      ],
      "text/plain": [
       "     Happiness Rank  Standard Error  Economy (GDP per Capita)   Family  \\\n",
       "0                 1         0.03411                   1.39651  1.34951   \n",
       "1                 2         0.04884                   1.30232  1.40223   \n",
       "2                 3         0.03328                   1.32548  1.36058   \n",
       "3                 4         0.03880                   1.45900  1.33095   \n",
       "4                 5         0.03553                   1.32629  1.32261   \n",
       "..              ...             ...                       ...      ...   \n",
       "153             154         0.03464                   0.22208  0.77370   \n",
       "154             155         0.03656                   0.28665  0.35386   \n",
       "155             156         0.05015                   0.66320  0.47489   \n",
       "156             157         0.08658                   0.01530  0.41587   \n",
       "157             158         0.06727                   0.20868  0.13995   \n",
       "\n",
       "     Health (Life Expectancy)  Freedom  Trust (Government Corruption)  \\\n",
       "0                     0.94143  0.66557                        0.41978   \n",
       "1                     0.94784  0.62877                        0.14145   \n",
       "2                     0.87464  0.64938                        0.48357   \n",
       "3                     0.88521  0.66973                        0.36503   \n",
       "4                     0.90563  0.63297                        0.32957   \n",
       "..                        ...      ...                            ...   \n",
       "153                   0.42864  0.59201                        0.55191   \n",
       "154                   0.31910  0.48450                        0.08010   \n",
       "155                   0.72193  0.15684                        0.18906   \n",
       "156                   0.22396  0.11850                        0.10062   \n",
       "157                   0.28443  0.36453                        0.10731   \n",
       "\n",
       "     Generosity  Dystopia Residual  \n",
       "0       0.29678            2.51738  \n",
       "1       0.43630            2.70201  \n",
       "2       0.34139            2.49204  \n",
       "3       0.34699            2.46531  \n",
       "4       0.45811            2.45176  \n",
       "..          ...                ...  \n",
       "153     0.22628            0.67042  \n",
       "154     0.18260            1.63328  \n",
       "155     0.47179            0.32858  \n",
       "156     0.19727            1.83302  \n",
       "157     0.16681            1.56726  \n",
       "\n",
       "[158 rows x 9 columns]"
      ]
     },
     "execution_count": 124,
     "metadata": {},
     "output_type": "execute_result"
    }
   ],
   "source": [
    "X"
   ]
  },
  {
   "cell_type": "code",
   "execution_count": null,
   "metadata": {},
   "outputs": [],
   "source": []
  },
  {
   "cell_type": "markdown",
   "metadata": {},
   "source": [
    "\n"
   ]
  },
  {
   "cell_type": "code",
   "execution_count": 125,
   "metadata": {},
   "outputs": [
    {
     "data": {
      "text/plain": [
       "0      7.587\n",
       "1      7.561\n",
       "2      7.527\n",
       "3      7.522\n",
       "4      7.427\n",
       "       ...  \n",
       "153    3.465\n",
       "154    3.340\n",
       "155    3.006\n",
       "156    2.905\n",
       "157    2.839\n",
       "Name: Happiness Score, Length: 158, dtype: float64"
      ]
     },
     "execution_count": 125,
     "metadata": {},
     "output_type": "execute_result"
    }
   ],
   "source": [
    "df3=df2.drop(columns=['Happiness Score','Standard Error','Trust (Government Corruption)','Generosity'])\n",
    "y = df['Happiness Score']\n",
    "y"
   ]
  },
  {
   "cell_type": "code",
   "execution_count": 126,
   "metadata": {},
   "outputs": [],
   "source": [
    "#data Scaling\n",
    "scaler=StandardScaler()\n",
    "X_scaled=scaler.fit_transform(df3)"
   ]
  },
  {
   "cell_type": "code",
   "execution_count": 127,
   "metadata": {},
   "outputs": [
    {
     "data": {
      "text/plain": [
       "array([[-1.72099989e+00,  1.36962124e+00,  1.32028142e+00,\n",
       "         1.26340809e+00,  1.57743784e+00,  7.58258088e-01],\n",
       "       [-1.69907456e+00,  1.13522625e+00,  1.51445776e+00,\n",
       "         1.28943383e+00,  1.33245589e+00,  1.09285682e+00],\n",
       "       [-1.67714922e+00,  1.19286069e+00,  1.36105403e+00,\n",
       "         9.92228817e-01,  1.46965910e+00,  7.12335259e-01],\n",
       "       [-1.65522389e+00,  1.52512972e+00,  1.25192192e+00,\n",
       "         1.03514490e+00,  1.60513145e+00,  6.63893379e-01],\n",
       "       [-1.63329856e+00,  1.19487640e+00,  1.22120434e+00,\n",
       "         1.11805373e+00,  1.36041579e+00,  6.39337171e-01],\n",
       "       [-1.61137323e+00,  1.10518965e+00,  1.20518259e+00,\n",
       "         1.05097959e+00,  1.41846586e+00,  9.43417340e-01],\n",
       "       [-1.58944789e+00,  1.20271529e+00,  1.06489092e+00,\n",
       "         1.06612405e+00,  1.24584679e+00,  6.64600163e-01],\n",
       "       [-1.56752256e+00,  1.20836426e+00,  1.09767107e+00,\n",
       "         1.13932906e+00,  1.53902627e+00,  4.93322871e-01],\n",
       "       [-1.54559723e+00,  1.00547410e+00,  1.21037585e+00,\n",
       "         1.12917861e+00,  1.40308792e+00,  2.99519108e-01],\n",
       "       [-1.52367189e+00,  1.21301782e+00,  1.17192363e+00,\n",
       "         1.22333414e+00,  1.48204134e+00,  3.03524217e-01],\n",
       "       [-1.50174656e+00,  9.51696888e-01,  8.57749849e-01,\n",
       "         1.15150959e+00, -1.02685625e-01,  1.79335213e+00],\n",
       "       [-1.47982123e+00,  2.72849769e-01,  9.09129968e-01,\n",
       "         9.33884062e-01,  1.36567491e+00,  1.95417265e+00],\n",
       "       [-1.45789589e+00,  1.22210096e+00,  1.12702587e+00,\n",
       "         1.05629842e+00,  1.30289829e+00,  7.86928142e-01],\n",
       "       [-1.43597056e+00,  4.34007214e-01, -2.81894354e-01,\n",
       "         7.47806114e-01,  3.54125818e-01,  2.72413213e+00],\n",
       "       [-1.41404523e+00,  1.36464418e+00,  9.43125560e-01,\n",
       "         9.40055533e-01,  7.81712513e-01,  7.45082912e-01],\n",
       "       [-1.39211989e+00,  3.36207838e-01,  8.90677323e-01,\n",
       "         2.71060039e-01,  4.11909603e-01,  2.10410144e+00],\n",
       "       [-1.37019456e+00,  1.78620179e+00,  8.41912249e-01,\n",
       "         1.17209469e+00,  1.24631278e+00, -2.34447047e-01],\n",
       "       [-1.34826923e+00,  1.21894053e+00,  1.39383418e+00,\n",
       "         1.07623390e+00,  1.25922759e+00, -2.23410345e-01],\n",
       "       [-1.32634389e+00,  1.14891319e+00,  1.08511148e+00,\n",
       "         1.08167453e+00,  1.03774528e+00,  5.72428297e-01],\n",
       "       [-1.30441856e+00,  1.44616854e+00,  4.96136935e-01,\n",
       "         7.26733792e-01,  1.41766700e+00,  2.69036788e-01],\n",
       "       [-1.28249323e+00,  1.04576346e+00,  1.08444851e+00,\n",
       "         1.13348240e+00,  1.11596641e+00, -2.33848999e-01],\n",
       "       [-1.26056789e+00,  1.27903862e+00,  3.34335597e-01,\n",
       "         5.37976126e-01,  1.35888465e+00,  6.81254891e-01],\n",
       "       [-1.23864256e+00,  4.92985464e-01,  9.75721550e-01,\n",
       "         3.66474217e-01,  3.09598125e-03,  1.97959875e+00],\n",
       "       [-1.21671723e+00,  1.68155895e+00,  1.06642479e-01,\n",
       "         1.60373219e+00,  7.58279458e-01, -3.87764780e-01],\n",
       "       [-1.19479189e+00,  5.40989280e-01,  7.64087021e-01,\n",
       "         6.75413145e-01,  7.55483468e-01,  1.35829947e+00],\n",
       "       [-1.17286656e+00,  1.19893271e+00,  1.13560764e+00,\n",
       "         1.06214508e+00,  1.23925624e+00,  3.02888203e-02],\n",
       "       [-1.15094123e+00,  6.49539121e-01,  4.91422487e-01,\n",
       "         9.26981760e-01,  8.45791067e-02,  1.04544794e+00],\n",
       "       [-1.12901589e+00,  2.10102620e+00,  3.22475814e-01,\n",
       "         6.78336473e-01,  1.40987818e+00, -9.82677453e-01],\n",
       "       [-1.10709056e+00,  1.07415763e+00,  9.92001129e-01,\n",
       "         1.28111047e+00,  8.08806984e-01,  2.03487115e-01],\n",
       "       [-1.08516523e+00,  5.16054172e-01,  9.47250702e-01,\n",
       "         6.37328677e-01,  1.40632041e-01,  1.33568239e+00],\n",
       "       [-1.06323989e+00,  8.28290500e-01,  7.93294502e-01,\n",
       "         8.71194917e-01,  2.33165983e-01,  1.04901810e+00],\n",
       "       [-1.04131456e+00,  5.36335722e-01,  8.02391913e-01,\n",
       "         7.36275210e-01,  1.16502937e+00,  4.03126375e-01],\n",
       "       [-1.01938923e+00,  1.80350970e-01,  9.17601243e-01,\n",
       "         2.45683928e-01,  7.05954509e-01,  1.37441052e+00],\n",
       "       [-9.97463894e-01,  3.00522264e-01,  1.00916467e+00,\n",
       "         4.39476213e-01,  8.52277965e-01,  3.99556211e-01],\n",
       "       [-9.75538561e-01,  1.36688386e+00,  3.42107071e-01,\n",
       "         3.65377969e-01, -7.86438224e-01,  6.15705217e-01],\n",
       "       [-9.53613228e-01,  9.55529230e-01,  1.18871885e+00,\n",
       "         1.32102201e+00,  2.05672085e-01,  4.47507058e-02],\n",
       "       [-9.31687895e-01,  8.99014629e-01,  1.14540486e+00,\n",
       "         1.04326525e+00,  1.16522909e+00, -8.15840213e-01],\n",
       "       [-9.09762562e-01,  1.10700628e+00,  3.13525728e-01,\n",
       "         9.94908535e-01, -2.07801520e-01,  4.06406577e-01],\n",
       "       [-8.87837228e-01,  1.76208790e+00,  6.44163244e-01,\n",
       "         3.84338999e-01,  8.41293720e-01, -4.03477129e-01],\n",
       "       [-8.65911895e-01,  3.71296164e-01, -7.01493303e-02,\n",
       "        -8.95649522e-02,  1.11809669e+00,  1.25402167e+00],\n",
       "       [-8.43986562e-01,  9.10038833e-01,  7.08986907e-01,\n",
       "        -6.26459735e-02,  8.66923625e-01,  3.07801166e-01],\n",
       "       [-8.22061229e-01, -2.03057423e-01,  1.25316114e-01,\n",
       "         1.91277545e-01, -1.67193100e-01,  1.69632339e+00],\n",
       "       [-8.00135895e-01, -2.50364449e-01,  1.93417793e-01,\n",
       "         5.68044570e-02,  9.90013738e-01,  1.16632610e+00],\n",
       "       [-7.78210562e-01, -5.31792730e-01,  1.28683830e+00,\n",
       "        -1.32115615e-01,  1.52844145e+00,  2.50877880e-01],\n",
       "       [-7.56285229e-01,  8.03230965e-01,  1.02739632e+00,\n",
       "         6.44596395e-01, -7.39638684e-01,  2.67152031e-01],\n",
       "       [-7.34359896e-01,  1.05663836e+00,  9.79994019e-01,\n",
       "         1.46511772e+00,  4.49588892e-01, -7.51414144e-01],\n",
       "       [-7.12434562e-01,  9.91612969e-01, -1.22671230e-01,\n",
       "         1.36064935e+00, -6.42644474e-01,  2.18927624e-01],\n",
       "       [-6.90509229e-01,  4.45019133e-02,  2.94065575e-02,\n",
       "         6.51620503e-01,  3.80288292e-01,  7.98200438e-01],\n",
       "       [-6.68583896e-01,  1.18858041e+00,  8.29426328e-01,\n",
       "         4.74637353e-01,  1.75115913e-01, -6.54240423e-01],\n",
       "       [-6.46658563e-01,  1.00786309e+00,  7.61398313e-01,\n",
       "         1.31631221e+00, -1.10677875e+00, -1.33739406e-01],\n",
       "       [-6.24733229e-01, -4.10128315e-01, -4.65402574e-02,\n",
       "        -3.69717220e-01,  9.68777532e-01,  1.31273910e+00],\n",
       "       [-6.02807896e-01, -6.26257471e-01,  8.92579514e-02,\n",
       "        -4.87195637e-02, -6.68607234e-01,  1.82702404e+00],\n",
       "       [-5.80882563e-01, -2.14728646e-01,  1.15549672e+00,\n",
       "         1.24731231e-01,  7.34779831e-01,  1.63073575e-01],\n",
       "       [-5.58957230e-01,  6.87837656e-01,  4.83835171e-01,\n",
       "         5.44901556e-02,  5.84994674e-01,  2.68783071e-01],\n",
       "       [-5.37031896e-01,  8.43221702e-01,  1.04161333e+00,\n",
       "         9.87072391e-01,  1.19784897e+00, -8.75590634e-01],\n",
       "       [-5.15106563e-01,  7.49279554e-01,  9.81209462e-01,\n",
       "         4.10161730e-01, -1.43257811e+00,  6.29786527e-01],\n",
       "       [-4.93181230e-01, -6.29318367e-01,  5.55399023e-01,\n",
       "         4.58315438e-01,  8.39696012e-01,  4.07928881e-01],\n",
       "       [-4.71255897e-01,  1.34512179e-01, -6.06099389e-02,\n",
       "         4.05654932e-01, -9.09025262e-02,  8.98020068e-01],\n",
       "       [-4.49330563e-01,  4.62326728e-01,  8.90750987e-01,\n",
       "         4.29650583e-01, -3.27762788e-01,  5.78533914e-02],\n",
       "       [-4.27405230e-01,  6.95328142e-01,  1.06234954e+00,\n",
       "         6.04035219e-01,  6.83054023e-01, -4.22850256e-01],\n",
       "       [-4.05479897e-01,  6.93611054e-01,  2.91647742e-01,\n",
       "         3.80360025e-01,  6.76530047e-01, -3.87039873e-01],\n",
       "       [-3.83554564e-01,  5.88296306e-01, -7.17502006e-01,\n",
       "         6.40658023e-01, -1.13027837e+00,  1.18733027e+00],\n",
       "       [-3.61629231e-01,  7.10010491e-01,  4.69875985e-01,\n",
       "         2.98588044e-01, -7.94522831e-02, -1.50722063e-02],\n",
       "       [-3.39703897e-01,  7.25414515e-01,  9.02831760e-01,\n",
       "         1.58349503e-01, -4.11575905e-01,  3.17079969e-01],\n",
       "       [-3.17778564e-01, -8.89830364e-02,  5.89210456e-01,\n",
       "         2.32041730e-01,  5.04643258e-01,  4.01241618e-01],\n",
       "       [-2.95853231e-01,  9.00657061e-01,  2.91095267e-01,\n",
       "         1.19085271e+00,  4.10445037e-01, -9.06308549e-01],\n",
       "       [-2.73927898e-01,  9.00831258e-01, -3.60456214e-01,\n",
       "         1.19085271e+00, -1.45757179e-01, -3.79972035e-01],\n",
       "       [-2.52002564e-01,  2.31813848e-01,  3.19234630e-01,\n",
       "        -5.11556704e-02, -9.50802470e-01,  6.03689892e-01],\n",
       "       [-2.30077231e-01, -1.11130987e-01, -6.59529026e-01,\n",
       "         4.30635819e-03, -1.20577009e+00,  1.20844317e+00],\n",
       "       [-2.08151898e-01,  2.79543925e-01,  8.67878546e-01,\n",
       "        -3.71097680e-01,  3.16113674e-01, -4.15256860e-01],\n",
       "       [-1.86226565e-01,  4.01830473e-01, -2.14947510e-02,\n",
       "         3.21731058e-01,  8.79039580e-01, -6.11688409e-01],\n",
       "       [-1.64301231e-01,  1.34356630e+00,  2.47265631e-01,\n",
       "         1.55513187e+00,  1.11483470e+00, -2.61815721e+00],\n",
       "       [-1.42375898e-01,  7.60502841e-01,  8.72408836e-01,\n",
       "         5.82029055e-01,  1.34906919e-01, -9.26352215e-01],\n",
       "       [-1.20450565e-01, -4.44631678e-02,  3.53709033e-01,\n",
       "         3.11441334e-02,  2.49609064e-01, -4.25858618e-01],\n",
       "       [-9.85252316e-02, -5.32489519e-01, -2.90181470e-01,\n",
       "         4.73013282e-01,  1.10391703e+00,  1.86216217e-01],\n",
       "       [-7.65998984e-02,  5.34643519e-01, -1.64732948e-01,\n",
       "         4.11948208e-01, -1.33451876e+00, -2.48221992e-02],\n",
       "       [-5.46745652e-02, -9.25379226e-01,  5.89689267e-01,\n",
       "         8.37234357e-02,  4.09749832e-02,  2.42342105e-01],\n",
       "       [-3.27492319e-02, -4.77268956e-01, -3.19425782e-01,\n",
       "        -1.90905242e+00, -5.67685324e-01,  1.43932590e+00],\n",
       "       [-1.08238987e-02, -1.88424845e-01,  4.15843988e-01,\n",
       "        -2.28138820e-01,  6.88646002e-01, -8.35521425e-01],\n",
       "       [ 1.11014346e-02,  4.42343802e-01, -1.95634683e-01,\n",
       "         4.13757814e-02, -3.88209420e-01, -1.78049319e-01],\n",
       "       [ 3.30267678e-02, -6.23893364e-01, -2.12494897e+00,\n",
       "        -4.69353982e-01, -2.04769582e+00,  1.82696967e+00],\n",
       "       [ 5.49521010e-02,  1.38966654e-01,  2.31575358e-01,\n",
       "         2.68502127e-01, -1.46489462e-01, -3.96916725e-01],\n",
       "       [ 5.49521010e-02,  3.19136497e-01, -3.14821828e-01,\n",
       "         3.85516451e-01, -1.63775049e+00,  2.16244667e-03],\n",
       "       [ 9.88027675e-02,  1.09452644e-01, -1.63149188e-01,\n",
       "         7.56494895e-01,  5.88190090e-01, -4.32364655e-01],\n",
       "       [ 1.20728101e-01, -9.35084508e-01, -2.75964462e-01,\n",
       "        -1.34399748e+00,  3.97130801e-01,  9.70148269e-01],\n",
       "       [ 1.42653434e-01,  4.91019522e-01, -3.87343302e-01,\n",
       "         5.62905618e-01, -5.18822077e-01, -3.03893093e-01],\n",
       "       [ 1.64578767e-01,  1.85128955e-01,  6.84849137e-02,\n",
       "         4.79509566e-01, -1.51479351e+00, -1.34065614e-01],\n",
       "       [ 1.86504100e-01,  7.80834161e-01,  5.46227948e-01,\n",
       "         9.94461915e-01,  5.73011861e-01, -1.51207670e+00],\n",
       "       [ 2.08429434e-01,  6.64395668e-01,  3.85163243e-01,\n",
       "         3.82105901e-01, -8.78106741e-01, -8.64137111e-01],\n",
       "       [ 2.30354767e-01, -3.50428391e-01,  1.62479226e-01,\n",
       "        -1.99433363e-01,  1.31035426e+00, -6.25914700e-01],\n",
       "       [ 2.52280100e-01, -1.63662705e+00, -1.45580502e-01,\n",
       "        -7.77643282e-01,  2.47678500e-01,  2.05569501e-02],\n",
       "       [ 2.74205433e-01, -2.77091302e-01, -1.28946034e+00,\n",
       "        -8.41243140e-02, -7.79211459e-02,  6.42907335e-01],\n",
       "       [ 2.96130767e-01,  1.80102117e-01,  4.15241628e-02,\n",
       "         4.27092671e-01, -6.26068250e-01, -6.51775741e-01],\n",
       "       [ 3.18056100e-01, -1.89889362e+00,  1.29699078e-01,\n",
       "        -2.18823025e+00, -5.87456965e-01,  1.72599019e+00],\n",
       "       [ 3.39981433e-01,  8.09589326e-02, -6.87668389e-01,\n",
       "         7.42974503e-01, -4.74552242e-01, -3.62519910e-01],\n",
       "       [ 3.61906766e-01, -3.46085742e-02, -2.64767647e-01,\n",
       "         6.51864113e-01, -2.23788968e+00, -6.39852749e-02],\n",
       "       [ 3.83832100e-01, -1.17132102e+00,  1.84099391e-01,\n",
       "        -2.24990435e+00, -7.38573545e-01,  1.26739619e+00],\n",
       "       [ 4.05757433e-01,  1.22517446e-01,  6.66556873e-01,\n",
       "         1.54248724e-01,  9.85952896e-01, -1.60553527e+00],\n",
       "       [ 4.27682766e-01, -6.35763670e-01, -9.31898907e-01,\n",
       "        -3.29562061e-01,  1.11370299e+00, -6.54204178e-01],\n",
       "       [ 4.49608099e-01, -4.46622505e-02,  1.14013793e+00,\n",
       "        -1.11977134e-01,  5.08940891e-02, -1.36171296e+00],\n",
       "       [ 4.71533433e-01, -3.33655674e-01,  3.01260796e-01,\n",
       "        -2.25177203e+00, -8.12400985e-01,  7.02766493e-01],\n",
       "       [ 4.93458766e-01,  7.66276239e-01, -2.27309883e-01,\n",
       "         1.02263955e+00, -2.34080873e+00, -5.39995153e-01],\n",
       "       [ 5.15384099e-01,  4.46698736e-01, -7.03616483e-01,\n",
       "         8.49432364e-01, -5.95512078e-01, -9.57577564e-01],\n",
       "       [ 5.37309432e-01,  6.83856002e-01,  7.77530565e-01,\n",
       "         5.22912867e-01, -7.15606488e-01, -1.55535362e+00],\n",
       "       [ 5.59234766e-01, -6.24167102e-01, -1.38361504e-01,\n",
       "         2.63264497e-01, -1.80640478e-01, -4.61940841e-01],\n",
       "       [ 5.81160099e-01, -1.13394324e+00, -4.98758974e-01,\n",
       "        -2.29275670e-01,  2.89884629e-01,  2.72079675e-02],\n",
       "       [ 6.03085432e-01,  8.70807256e-02, -1.42448509e+00,\n",
       "         4.37161912e-01, -1.10464847e+00,  4.65448494e-02],\n",
       "       [ 6.25010765e-01, -6.15830514e-01, -2.41121743e-01,\n",
       "         1.21361284e-01, -1.22241289e+00, -9.99225165e-02],\n",
       "       [ 6.46936099e-01, -1.11637419e+00, -2.06251936e+00,\n",
       "        -1.16199719e-01, -1.35904645e-01,  7.58783645e-01],\n",
       "       [ 6.68861432e-01,  4.04791828e-01, -1.64481188e+00,\n",
       "         2.75242022e-01, -8.54007973e-01, -7.33200868e-01],\n",
       "       [ 6.90786765e-01, -1.17128353e-01,  7.79850958e-01,\n",
       "         1.77188728e-01, -1.18087247e+00, -9.56109628e-01],\n",
       "       [ 7.12712098e-01,  3.46784107e-01, -6.34078371e-01,\n",
       "        -1.13235789e-01, -2.85334025e+00, -2.63914498e-01],\n",
       "       [ 7.34637431e-01,  1.85029414e-01,  7.13185713e-01,\n",
       "        -1.43478306e+00, -6.42711045e-01, -6.87604246e-01],\n",
       "       [ 7.56562765e-01, -7.47946770e-01, -1.14732709e+00,\n",
       "        -9.29534533e-01, -3.45833072e-02,  3.80962358e-01],\n",
       "       [ 7.78488098e-01, -1.43124836e+00,  1.53639635e-01,\n",
       "        -1.19982057e+00, -1.13174294e+00,  6.21486347e-01],\n",
       "       [ 8.00413431e-01, -1.92845741e+00, -7.41663554e-01,\n",
       "        -1.17034368e+00, -9.53997887e-01,  1.22928423e+00],\n",
       "       [ 8.22338764e-01, -5.00561631e-01, -2.24417295e+00,\n",
       "        -4.66796070e-01, -2.04739246e-01,  3.19236566e-01],\n",
       "       [ 8.44264098e-01, -8.08940732e-01,  8.46908296e-02,\n",
       "        -1.06165272e+00, -2.18223617e+00,  1.98612118e-01],\n",
       "       [ 8.66189431e-01, -1.44187440e+00, -9.13519925e-01,\n",
       "        -9.81707817e-01, -1.22733916e+00,  2.58706870e-01],\n",
       "       [ 8.88114764e-01, -2.10564101e+00,  3.73990205e-02,\n",
       "        -2.16082405e+00, -1.34849870e+00,  1.39208012e+00],\n",
       "       [ 9.10040097e-01, -1.20984352e+00, -4.66126152e-01,\n",
       "        -2.49779568e-01, -3.04862302e-01, -2.58441454e-01],\n",
       "       [ 9.31965431e-01, -1.63100297e+00, -1.42533221e+00,\n",
       "        -7.70253758e-01,  3.91775613e-02,  6.33900371e-01],\n",
       "       [ 9.53890764e-01, -1.28382763e+00, -1.30148051e-01,\n",
       "        -2.55896508e+00, -1.34573221e-01,  7.45046666e-01],\n",
       "       [ 9.75816097e-01, -9.75672493e-01, -4.49220435e-01,\n",
       "        -1.10241690e+00, -1.24018739e+00,  3.39858437e-02],\n",
       "       [ 9.97741430e-01, -1.19804787e+00,  2.84121036e-02,\n",
       "        -8.76630416e-01, -4.30378471e-02, -5.68012790e-01],\n",
       "       [ 1.01966676e+00, -1.01006403e+00, -1.46949333e+00,\n",
       "        -1.08548596e+00,  2.13860340e-01, -8.64936229e-02],\n",
       "       [ 1.04159210e+00, -1.93924504e-01, -7.87960909e-01,\n",
       "         4.04558684e-01, -1.53210202e+00, -6.16617774e-01],\n",
       "       [ 1.06351743e+00,  3.66841689e-01,  4.18385370e-01,\n",
       "        -2.36505099e+00,  4.41600350e-01, -1.15471590e+00],\n",
       "       [ 1.08544276e+00, -1.43104928e+00, -1.03863696e+00,\n",
       "        -6.00091707e-01,  7.69234209e-02, -1.23402067e+00],\n",
       "       [ 1.10736810e+00, -2.59397827e-01, -2.22988227e+00,\n",
       "         4.01960171e-01, -1.52081441e-01, -9.12597113e-01],\n",
       "       [ 1.12929343e+00, -2.06572493e+00, -2.13515133e+00,\n",
       "        -1.64290777e+00,  1.28153737e-02,  1.28477583e+00],\n",
       "       [ 1.15121876e+00, -2.71180877e-02,  1.03143475e-01,\n",
       "         3.15884402e-01,  7.23263016e-01, -2.58772926e+00],\n",
       "       [ 1.17314410e+00, -1.05423550e+00, -3.80750441e-01,\n",
       "        -1.60880228e+00,  4.29218110e-01, -2.68698881e-01],\n",
       "       [ 1.19506943e+00,  4.13153301e-01,  4.23910114e-01,\n",
       "         5.53120590e-01, -8.17127539e-01, -2.17302836e+00],\n",
       "       [ 1.21699476e+00,  8.87480432e-02, -8.98860938e-01,\n",
       "        -5.33481664e-02, -1.70245767e+00, -9.05601765e-01],\n",
       "       [ 1.23892010e+00, -7.45682205e-01, -1.14220750e+00,\n",
       "        -9.32295454e-01, -4.85336773e-01, -3.18681187e-01],\n",
       "       [ 1.26084543e+00, -2.19879911e-01, -4.81190288e-01,\n",
       "        -1.88160562e+00, -2.16206511e+00, -2.71091073e-01],\n",
       "       [ 1.28277076e+00, -1.45678072e+00,  1.62847542e-01,\n",
       "        -1.72325869e+00, -2.66583873e-01, -5.54638265e-01],\n",
       "       [ 1.30469610e+00, -4.16772701e-01, -1.20861492e+00,\n",
       "        -1.29823928e+00, -9.28996616e-02, -7.56850943e-01],\n",
       "       [ 1.32662143e+00, -1.51073213e+00, -7.30429908e-01,\n",
       "        -1.08451152e+00, -1.32772850e+00, -2.55269987e-01],\n",
       "       [ 1.34854676e+00, -1.58051062e+00,  5.22803033e-01,\n",
       "        -1.18414828e+00,  1.90760140e-01, -1.21660479e+00],\n",
       "       [ 1.37047210e+00, -1.19737596e+00, -5.47168786e-02,\n",
       "        -7.91163674e-01, -4.05384785e-01, -1.18708297e+00],\n",
       "       [ 1.39239743e+00,  5.32802004e-01, -3.15889946e-01,\n",
       "        -7.97984772e-01, -7.28787582e-01, -1.99354150e+00],\n",
       "       [ 1.41432276e+00, -1.93293677e+00, -8.04387815e-01,\n",
       "        -1.35280807e+00,  3.21572511e-01, -3.99073322e-01],\n",
       "       [ 1.43624810e+00, -9.59969845e-01, -1.33951452e+00,\n",
       "        -7.76280295e-02,  1.55673420e+00, -2.02435002e+00],\n",
       "       [ 1.45817343e+00, -1.39591119e+00,  4.28501013e-02,\n",
       "        -1.00736814e+00, -6.64612963e-01, -1.30154572e+00],\n",
       "       [ 1.48009876e+00, -1.58742874e+00, -1.18979396e+00,\n",
       "        -6.62009418e-01, -1.57623871e+00, -4.49399958e-01],\n",
       "       [ 1.50202409e+00, -1.91029111e+00, -3.65018347e+00,\n",
       "        -2.28697377e+00,  4.00592503e-01,  1.12962771e+00],\n",
       "       [ 1.52394943e+00, -1.25473667e+00, -8.48696262e-01,\n",
       "        -1.94953240e+00, -1.28885093e+00, -2.82743945e-01],\n",
       "       [ 1.54587476e+00, -1.67221309e+00, -1.93843361e+00,\n",
       "        -1.58415700e+00, -3.41942449e-01, -1.94377838e-01],\n",
       "       [ 1.56780009e+00, -9.47626718e-01, -8.09912559e-01,\n",
       "        -1.94242709e+00,  2.66584715e-01, -1.23550673e+00],\n",
       "       [ 1.58972543e+00, -1.46330068e+00, -5.12570834e-01,\n",
       "        -1.45764186e+00, -2.24244602e-01, -1.14904350e+00],\n",
       "       [ 1.61165076e+00, -1.30975815e+00, -2.53473765e+00,\n",
       "        -1.32731015e+00, -1.29464262e+00, -2.66179831e-01],\n",
       "       [ 1.63357609e+00, -1.55298744e+00, -8.00520494e-01,\n",
       "        -8.18610476e-01,  1.08774023e+00, -2.58892536e+00],\n",
       "       [ 1.65550143e+00, -1.39230281e+00, -2.34685952e+00,\n",
       "        -1.26336235e+00,  3.72033466e-01, -8.43966587e-01],\n",
       "       [ 1.67742676e+00, -4.55245432e-01, -1.90108634e+00,\n",
       "         3.72199067e-01, -1.80923785e+00, -3.20843049e+00],\n",
       "       [ 1.69935209e+00, -2.06756644e+00, -2.11846660e+00,\n",
       "        -1.64964766e+00, -2.06447176e+00, -4.81984507e-01],\n",
       "       [ 1.72127743e+00, -1.58633379e+00, -3.13472485e+00,\n",
       "        -1.40412871e+00, -4.26620992e-01, -9.63612411e-01]])"
      ]
     },
     "execution_count": 127,
     "metadata": {},
     "output_type": "execute_result"
    }
   ],
   "source": [
    "#Let's check how scaled data looks like\n",
    "X_scaled"
   ]
  },
  {
   "cell_type": "markdown",
   "metadata": {},
   "source": [
    "Let's go ahead and use Linear Regression and see how good it fits our data, But first we need to split our data\n"
   ]
  },
  {
   "cell_type": "code",
   "execution_count": 128,
   "metadata": {},
   "outputs": [
    {
     "data": {
      "text/plain": [
       "56     5.828\n",
       "136    4.033\n",
       "132    4.252\n",
       "12     7.200\n",
       "54     5.848\n",
       "Name: Happiness Score, dtype: float64"
      ]
     },
     "execution_count": 128,
     "metadata": {},
     "output_type": "execute_result"
    }
   ],
   "source": [
    "#Split data into train and tests. Model will be built on training data and testedon test data.\n",
    "x_train,x_test,y_train,y_test = train_test_split(X_scaled,y,test_size = 0.25, random_state=1)\n",
    "y_train.head()"
   ]
  },
  {
   "cell_type": "markdown",
   "metadata": {},
   "source": [
    "# Model Instantiating and training"
   ]
  },
  {
   "cell_type": "code",
   "execution_count": 129,
   "metadata": {},
   "outputs": [
    {
     "data": {
      "text/plain": [
       "LinearRegression()"
      ]
     },
     "execution_count": 129,
     "metadata": {},
     "output_type": "execute_result"
    }
   ],
   "source": [
    "regression = LinearRegression()\n",
    "regression.fit(x_train,y_train)"
   ]
  },
  {
   "cell_type": "markdown",
   "metadata": {},
   "source": [
    "# Prediction part"
   ]
  },
  {
   "cell_type": "code",
   "execution_count": 130,
   "metadata": {},
   "outputs": [
    {
     "data": {
      "text/html": [
       "<div>\n",
       "<style scoped>\n",
       "    .dataframe tbody tr th:only-of-type {\n",
       "        vertical-align: middle;\n",
       "    }\n",
       "\n",
       "    .dataframe tbody tr th {\n",
       "        vertical-align: top;\n",
       "    }\n",
       "\n",
       "    .dataframe thead th {\n",
       "        text-align: right;\n",
       "    }\n",
       "</style>\n",
       "<table border=\"1\" class=\"dataframe\">\n",
       "  <thead>\n",
       "    <tr style=\"text-align: right;\">\n",
       "      <th></th>\n",
       "      <th>Happiness Rank</th>\n",
       "      <th>Economy (GDP per Capita)</th>\n",
       "      <th>Family</th>\n",
       "      <th>Health (Life Expectancy)</th>\n",
       "      <th>Freedom</th>\n",
       "      <th>Dystopia Residual</th>\n",
       "    </tr>\n",
       "  </thead>\n",
       "  <tbody>\n",
       "    <tr>\n",
       "      <th>156</th>\n",
       "      <td>157</td>\n",
       "      <td>0.01530</td>\n",
       "      <td>0.41587</td>\n",
       "      <td>0.22396</td>\n",
       "      <td>0.11850</td>\n",
       "      <td>1.83302</td>\n",
       "    </tr>\n",
       "    <tr>\n",
       "      <th>157</th>\n",
       "      <td>158</td>\n",
       "      <td>0.20868</td>\n",
       "      <td>0.13995</td>\n",
       "      <td>0.28443</td>\n",
       "      <td>0.36453</td>\n",
       "      <td>1.56726</td>\n",
       "    </tr>\n",
       "  </tbody>\n",
       "</table>\n",
       "</div>"
      ],
      "text/plain": [
       "     Happiness Rank  Economy (GDP per Capita)   Family  \\\n",
       "156             157                   0.01530  0.41587   \n",
       "157             158                   0.20868  0.13995   \n",
       "\n",
       "     Health (Life Expectancy)  Freedom  Dystopia Residual  \n",
       "156                   0.22396  0.11850            1.83302  \n",
       "157                   0.28443  0.36453            1.56726  "
      ]
     },
     "execution_count": 130,
     "metadata": {},
     "output_type": "execute_result"
    }
   ],
   "source": [
    "df3.tail(2)"
   ]
  },
  {
   "cell_type": "code",
   "execution_count": 131,
   "metadata": {},
   "outputs": [
    {
     "name": "stdout",
     "output_type": "stream",
     "text": [
      "Happiness score is :  [3.17798406]\n"
     ]
    }
   ],
   "source": [
    "print('Happiness score is : ',regression.predict(scaler.transform([[157,0.01530,0.41587,0.22396,0.11850,1.83302]])))"
   ]
  },
  {
   "cell_type": "code",
   "execution_count": 132,
   "metadata": {},
   "outputs": [
    {
     "data": {
      "text/html": [
       "<div>\n",
       "<style scoped>\n",
       "    .dataframe tbody tr th:only-of-type {\n",
       "        vertical-align: middle;\n",
       "    }\n",
       "\n",
       "    .dataframe tbody tr th {\n",
       "        vertical-align: top;\n",
       "    }\n",
       "\n",
       "    .dataframe thead th {\n",
       "        text-align: right;\n",
       "    }\n",
       "</style>\n",
       "<table border=\"1\" class=\"dataframe\">\n",
       "  <thead>\n",
       "    <tr style=\"text-align: right;\">\n",
       "      <th></th>\n",
       "      <th>Country</th>\n",
       "      <th>Region</th>\n",
       "      <th>Happiness Rank</th>\n",
       "      <th>Happiness Score</th>\n",
       "      <th>Standard Error</th>\n",
       "      <th>Economy (GDP per Capita)</th>\n",
       "      <th>Family</th>\n",
       "      <th>Health (Life Expectancy)</th>\n",
       "      <th>Freedom</th>\n",
       "      <th>Trust (Government Corruption)</th>\n",
       "      <th>Generosity</th>\n",
       "      <th>Dystopia Residual</th>\n",
       "    </tr>\n",
       "  </thead>\n",
       "  <tbody>\n",
       "    <tr>\n",
       "      <th>156</th>\n",
       "      <td>Burundi</td>\n",
       "      <td>Sub-Saharan Africa</td>\n",
       "      <td>157</td>\n",
       "      <td>2.905</td>\n",
       "      <td>0.08658</td>\n",
       "      <td>0.01530</td>\n",
       "      <td>0.41587</td>\n",
       "      <td>0.22396</td>\n",
       "      <td>0.11850</td>\n",
       "      <td>0.10062</td>\n",
       "      <td>0.19727</td>\n",
       "      <td>1.83302</td>\n",
       "    </tr>\n",
       "    <tr>\n",
       "      <th>157</th>\n",
       "      <td>Togo</td>\n",
       "      <td>Sub-Saharan Africa</td>\n",
       "      <td>158</td>\n",
       "      <td>2.839</td>\n",
       "      <td>0.06727</td>\n",
       "      <td>0.20868</td>\n",
       "      <td>0.13995</td>\n",
       "      <td>0.28443</td>\n",
       "      <td>0.36453</td>\n",
       "      <td>0.10731</td>\n",
       "      <td>0.16681</td>\n",
       "      <td>1.56726</td>\n",
       "    </tr>\n",
       "  </tbody>\n",
       "</table>\n",
       "</div>"
      ],
      "text/plain": [
       "     Country              Region  Happiness Rank  Happiness Score  \\\n",
       "156  Burundi  Sub-Saharan Africa             157            2.905   \n",
       "157     Togo  Sub-Saharan Africa             158            2.839   \n",
       "\n",
       "     Standard Error  Economy (GDP per Capita)   Family  \\\n",
       "156         0.08658                   0.01530  0.41587   \n",
       "157         0.06727                   0.20868  0.13995   \n",
       "\n",
       "     Health (Life Expectancy)  Freedom  Trust (Government Corruption)  \\\n",
       "156                   0.22396  0.11850                        0.10062   \n",
       "157                   0.28443  0.36453                        0.10731   \n",
       "\n",
       "     Generosity  Dystopia Residual  \n",
       "156     0.19727            1.83302  \n",
       "157     0.16681            1.56726  "
      ]
     },
     "execution_count": 132,
     "metadata": {},
     "output_type": "execute_result"
    }
   ],
   "source": [
    "df.tail(2)"
   ]
  },
  {
   "cell_type": "code",
   "execution_count": 133,
   "metadata": {},
   "outputs": [
    {
     "data": {
      "text/plain": [
       "Country                                     Burundi\n",
       "Region                           Sub-Saharan Africa\n",
       "Happiness Rank                                  157\n",
       "Happiness Score                               2.905\n",
       "Standard Error                              0.08658\n",
       "Economy (GDP per Capita)                     0.0153\n",
       "Family                                      0.41587\n",
       "Health (Life Expectancy)                    0.22396\n",
       "Freedom                                      0.1185\n",
       "Trust (Government Corruption)               0.10062\n",
       "Generosity                                  0.19727\n",
       "Dystopia Residual                           1.83302\n",
       "Name: 156, dtype: object"
      ]
     },
     "execution_count": 133,
     "metadata": {},
     "output_type": "execute_result"
    }
   ],
   "source": [
    "df.iloc[156] "
   ]
  },
  {
   "cell_type": "markdown",
   "metadata": {},
   "source": [
    "Let's check how well model fits the train data"
   ]
  },
  {
   "cell_type": "code",
   "execution_count": 134,
   "metadata": {},
   "outputs": [
    {
     "data": {
      "text/plain": [
       "0.9894440713817864"
      ]
     },
     "execution_count": 134,
     "metadata": {},
     "output_type": "execute_result"
    }
   ],
   "source": [
    "regression.score(x_train, y_train)"
   ]
  },
  {
   "cell_type": "markdown",
   "metadata": {},
   "source": [
    "We got 98.94%"
   ]
  },
  {
   "cell_type": "markdown",
   "metadata": {},
   "source": [
    "Let's check how well model fits the test data"
   ]
  },
  {
   "cell_type": "code",
   "execution_count": 139,
   "metadata": {},
   "outputs": [
    {
     "data": {
      "text/plain": [
       "0.9884589969834654"
      ]
     },
     "execution_count": 139,
     "metadata": {},
     "output_type": "execute_result"
    }
   ],
   "source": [
    "regression.score(x_test, y_test)"
   ]
  },
  {
   "cell_type": "markdown",
   "metadata": {},
   "source": [
    "We got 98.84%"
   ]
  },
  {
   "cell_type": "code",
   "execution_count": 140,
   "metadata": {},
   "outputs": [],
   "source": [
    "y_pred = regression.predict(x_test)"
   ]
  },
  {
   "cell_type": "code",
   "execution_count": 141,
   "metadata": {},
   "outputs": [
    {
     "data": {
      "text/plain": [
       "array([6.67752783, 4.67146576, 7.01609   , 5.31358694, 4.29810834,\n",
       "       6.85713043, 5.44203427, 7.19317644, 6.35899311, 4.88842756,\n",
       "       4.92465008, 5.03574591, 4.65363703, 5.00766288, 5.88239801,\n",
       "       5.13968561, 6.28390985, 6.0658484 , 6.02497033, 3.7138309 ,\n",
       "       5.94228437, 6.47037324, 3.8323988 , 7.25925074, 4.26358046,\n",
       "       6.55769575, 6.90602653, 5.29124811, 4.29001113, 5.12211263,\n",
       "       4.38603481, 3.17798406, 4.07281953, 6.18611405, 4.36873001,\n",
       "       5.24134657, 5.39699464, 4.83478148, 6.45636192, 3.46472205])"
      ]
     },
     "execution_count": 141,
     "metadata": {},
     "output_type": "execute_result"
    }
   ],
   "source": [
    "y_pred"
   ]
  },
  {
   "cell_type": "markdown",
   "metadata": {},
   "source": [
    "Let's plot relationship between actual and predicted"
   ]
  },
  {
   "cell_type": "code",
   "execution_count": 142,
   "metadata": {},
   "outputs": [
    {
     "data": {
      "image/png": "[encoded data removed]",
      "text/plain": [
       "<Figure size 432x288 with 1 Axes>"
      ]
     },
     "metadata": {
      "needs_background": "light"
     },
     "output_type": "display_data"
    }
   ],
   "source": [
    "plt.scatter(y_test, y_pred)\n",
    "plt.xlabel('Actual Happiness Score')\n",
    "plt.ylabel('Predicted Happiness Score')\n",
    "plt.title('Actual vs model predicted')\n",
    "plt.show()"
   ]
  },
  {
   "cell_type": "code",
   "execution_count": null,
   "metadata": {},
   "outputs": [],
   "source": []
  },
  {
   "cell_type": "markdown",
   "metadata": {},
   "source": [
    "# # Model Evaluation"
   ]
  },
  {
   "cell_type": "code",
   "execution_count": 143,
   "metadata": {},
   "outputs": [
    {
     "data": {
      "text/plain": [
       "0.09443323941758247"
      ]
     },
     "execution_count": 143,
     "metadata": {},
     "output_type": "execute_result"
    }
   ],
   "source": [
    "from sklearn.metrics import mean_squared_error, mean_absolute_error\n",
    "y_pred = regression.predict(x_test)\n",
    "mean_absolute_error(y_test, y_pred)"
   ]
  },
  {
   "cell_type": "code",
   "execution_count": 144,
   "metadata": {},
   "outputs": [
    {
     "data": {
      "text/plain": [
       "0.013062191744747775"
      ]
     },
     "execution_count": 144,
     "metadata": {},
     "output_type": "execute_result"
    }
   ],
   "source": [
    "mean_squared_error(y_test, y_pred)"
   ]
  },
  {
   "cell_type": "code",
   "execution_count": 145,
   "metadata": {},
   "outputs": [
    {
     "data": {
      "text/plain": [
       "0.11428994594778569"
      ]
     },
     "execution_count": 145,
     "metadata": {},
     "output_type": "execute_result"
    }
   ],
   "source": [
    "np.sqrt(mean_squared_error(y_test, y_pred))"
   ]
  },
  {
   "cell_type": "markdown",
   "metadata": {},
   "source": [
    "# #Lasso regression"
   ]
  },
  {
   "cell_type": "code",
   "execution_count": 146,
   "metadata": {},
   "outputs": [
    {
     "data": {
      "text/plain": [
       "LassoCV(max_iter=100, normalize=True)"
      ]
     },
     "execution_count": 146,
     "metadata": {},
     "output_type": "execute_result"
    }
   ],
   "source": [
    "from sklearn.linear_model import Ridge, Lasso, RidgeCV, LassoCV\n",
    "lasscv = LassoCV(alphas = None, max_iter =100, normalize = True)\n",
    "lasscv.fit(x_train,y_train)"
   ]
  },
  {
   "cell_type": "markdown",
   "metadata": {},
   "source": [
    "# best alpha parameter (learning rate)"
   ]
  },
  {
   "cell_type": "code",
   "execution_count": 147,
   "metadata": {},
   "outputs": [
    {
     "data": {
      "text/plain": [
       "0.00010655584493796165"
      ]
     },
     "execution_count": 147,
     "metadata": {},
     "output_type": "execute_result"
    }
   ],
   "source": [
    "alpha = lasscv.alpha_\n",
    "alpha"
   ]
  },
  {
   "cell_type": "markdown",
   "metadata": {},
   "source": [
    "Now that we have best parameter, let's use Lasso regression and see how well our data has fitted before"
   ]
  },
  {
   "cell_type": "code",
   "execution_count": 148,
   "metadata": {},
   "outputs": [
    {
     "data": {
      "text/plain": [
       "Lasso(alpha=0.00010655584493796165)"
      ]
     },
     "execution_count": 148,
     "metadata": {},
     "output_type": "execute_result"
    }
   ],
   "source": [
    "lasso_reg = Lasso(alpha)\n",
    "lasso_reg.fit(x_train, y_train)"
   ]
  },
  {
   "cell_type": "code",
   "execution_count": 149,
   "metadata": {},
   "outputs": [
    {
     "data": {
      "text/plain": [
       "0.9884273517724319"
      ]
     },
     "execution_count": 149,
     "metadata": {},
     "output_type": "execute_result"
    }
   ],
   "source": [
    "lasso_reg.score(x_test, y_test)"
   ]
  },
  {
   "cell_type": "markdown",
   "metadata": {},
   "source": [
    "98.84%"
   ]
  },
  {
   "cell_type": "markdown",
   "metadata": {},
   "source": [
    "# Prediction part"
   ]
  },
  {
   "cell_type": "code",
   "execution_count": 150,
   "metadata": {},
   "outputs": [
    {
     "name": "stdout",
     "output_type": "stream",
     "text": [
      "Happiness score is :  [3.18038983]\n"
     ]
    }
   ],
   "source": [
    "print('Happiness score is : ',lasso_reg.predict(scaler.transform([[157,0.01530,0.41587,0.22396,0.11850,1.83302]])))"
   ]
  },
  {
   "cell_type": "code",
   "execution_count": null,
   "metadata": {},
   "outputs": [],
   "source": []
  },
  {
   "cell_type": "markdown",
   "metadata": {},
   "source": [
    "# #Ridge Regression"
   ]
  },
  {
   "cell_type": "markdown",
   "metadata": {},
   "source": [
    "RidgeCV will return best alpha and coefficients after performing 10 cross validations"
   ]
  },
  {
   "cell_type": "code",
   "execution_count": 151,
   "metadata": {},
   "outputs": [],
   "source": [
    "ridgecv = RidgeCV(alphas = np.arange(0.001, 0.1, 0.001), normalize = True)"
   ]
  },
  {
   "cell_type": "code",
   "execution_count": 152,
   "metadata": {},
   "outputs": [
    {
     "data": {
      "text/plain": [
       "RidgeCV(alphas=array([0.001, 0.002, 0.003, 0.004, 0.005, 0.006, 0.007, 0.008, 0.009,\n",
       "       0.01 , 0.011, 0.012, 0.013, 0.014, 0.015, 0.016, 0.017, 0.018,\n",
       "       0.019, 0.02 , 0.021, 0.022, 0.023, 0.024, 0.025, 0.026, 0.027,\n",
       "       0.028, 0.029, 0.03 , 0.031, 0.032, 0.033, 0.034, 0.035, 0.036,\n",
       "       0.037, 0.038, 0.039, 0.04 , 0.041, 0.042, 0.043, 0.044, 0.045,\n",
       "       0.046, 0.047, 0.048, 0.049, 0.05 , 0.051, 0.052, 0.053, 0.054,\n",
       "       0.055, 0.056, 0.057, 0.058, 0.059, 0.06 , 0.061, 0.062, 0.063,\n",
       "       0.064, 0.065, 0.066, 0.067, 0.068, 0.069, 0.07 , 0.071, 0.072,\n",
       "       0.073, 0.074, 0.075, 0.076, 0.077, 0.078, 0.079, 0.08 , 0.081,\n",
       "       0.082, 0.083, 0.084, 0.085, 0.086, 0.087, 0.088, 0.089, 0.09 ,\n",
       "       0.091, 0.092, 0.093, 0.094, 0.095, 0.096, 0.097, 0.098, 0.099]),\n",
       "        normalize=True)"
      ]
     },
     "execution_count": 152,
     "metadata": {},
     "output_type": "execute_result"
    }
   ],
   "source": [
    "ridgecv.fit(x_train, y_train)"
   ]
  },
  {
   "cell_type": "markdown",
   "metadata": {},
   "source": [
    "# Best alpha parameter"
   ]
  },
  {
   "cell_type": "code",
   "execution_count": 153,
   "metadata": {},
   "outputs": [
    {
     "data": {
      "text/plain": [
       "0.002"
      ]
     },
     "execution_count": 153,
     "metadata": {},
     "output_type": "execute_result"
    }
   ],
   "source": [
    "ridgecv.alpha_"
   ]
  },
  {
   "cell_type": "code",
   "execution_count": 154,
   "metadata": {},
   "outputs": [
    {
     "data": {
      "text/plain": [
       "Ridge(alpha=0.002)"
      ]
     },
     "execution_count": 154,
     "metadata": {},
     "output_type": "execute_result"
    }
   ],
   "source": [
    "ridge_model  = Ridge(alpha = ridgecv.alpha_)\n",
    "ridge_model.fit(x_train, y_train)"
   ]
  },
  {
   "cell_type": "code",
   "execution_count": null,
   "metadata": {},
   "outputs": [],
   "source": []
  },
  {
   "cell_type": "code",
   "execution_count": 155,
   "metadata": {},
   "outputs": [
    {
     "data": {
      "text/plain": [
       "0.9894440694025031"
      ]
     },
     "execution_count": 155,
     "metadata": {},
     "output_type": "execute_result"
    }
   ],
   "source": [
    "ridge_model.score(x_train, y_train)"
   ]
  },
  {
   "cell_type": "markdown",
   "metadata": {},
   "source": [
    "We got 98.94%"
   ]
  },
  {
   "cell_type": "code",
   "execution_count": 156,
   "metadata": {},
   "outputs": [
    {
     "data": {
      "text/plain": [
       "0.9884617441881374"
      ]
     },
     "execution_count": 156,
     "metadata": {},
     "output_type": "execute_result"
    }
   ],
   "source": [
    "ridge_model.score(x_test, y_test)"
   ]
  },
  {
   "cell_type": "markdown",
   "metadata": {},
   "source": [
    "We got 98.84%"
   ]
  },
  {
   "cell_type": "markdown",
   "metadata": {},
   "source": []
  },
  {
   "cell_type": "markdown",
   "metadata": {},
   "source": [
    "# Prediction part"
   ]
  },
  {
   "cell_type": "code",
   "execution_count": 157,
   "metadata": {},
   "outputs": [
    {
     "name": "stdout",
     "output_type": "stream",
     "text": [
      "Happiness score is :  [3.17781898]\n"
     ]
    }
   ],
   "source": [
    "print('Happiness score is : ',ridge_model.predict(scaler.transform([[157,0.01530,0.41587,0.22396,0.11850,1.83302]])))"
   ]
  },
  {
   "cell_type": "markdown",
   "metadata": {},
   "source": []
  },
  {
   "cell_type": "markdown",
   "metadata": {},
   "source": [
    "Let us check the cross validation score for each model"
   ]
  },
  {
   "cell_type": "code",
   "execution_count": 167,
   "metadata": {},
   "outputs": [],
   "source": [
    "from sklearn.model_selection import cross_val_score\n",
    "cv_score = cross_val_score(ridge_model, x_test, y_test, cv = 5)"
   ]
  },
  {
   "cell_type": "code",
   "execution_count": 169,
   "metadata": {},
   "outputs": [
    {
     "data": {
      "text/plain": [
       "0.9999238933453233"
      ]
     },
     "execution_count": 169,
     "metadata": {},
     "output_type": "execute_result"
    }
   ],
   "source": [
    "cv_mean = cv_score.mean()\n",
    "cv_mean"
   ]
  },
  {
   "cell_type": "code",
   "execution_count": null,
   "metadata": {},
   "outputs": [],
   "source": [
    "cv_score = cross_val_score(lasso_reg, x_test, y_test, cv = 5)"
   ]
  },
  {
   "cell_type": "code",
   "execution_count": 170,
   "metadata": {},
   "outputs": [
    {
     "data": {
      "text/plain": [
       "0.9999238933453233"
      ]
     },
     "execution_count": 170,
     "metadata": {},
     "output_type": "execute_result"
    }
   ],
   "source": [
    "cv_mean = cv_score.mean()\n",
    "cv_mean"
   ]
  },
  {
   "cell_type": "code",
   "execution_count": 171,
   "metadata": {},
   "outputs": [],
   "source": [
    "cv_score = cross_val_score(regression, x_test, y_test, cv = 5)"
   ]
  },
  {
   "cell_type": "code",
   "execution_count": 172,
   "metadata": {},
   "outputs": [
    {
     "data": {
      "text/plain": [
       "0.9999259358775922"
      ]
     },
     "execution_count": 172,
     "metadata": {},
     "output_type": "execute_result"
    }
   ],
   "source": [
    "cv_mean = cv_score.mean()\n",
    "cv_mean"
   ]
  },
  {
   "cell_type": "markdown",
   "metadata": {},
   "source": [
    "Infgerence: - All the tested model are giving the same kind of performance."
   ]
  },
  {
   "cell_type": "code",
   "execution_count": 177,
   "metadata": {},
   "outputs": [],
   "source": [
    "import pickle\n",
    "filename = \"Happiness\"\n",
    "pickle.dump(ridge_model, open(filename,'wb'))"
   ]
  },
  {
   "cell_type": "code",
   "execution_count": null,
   "metadata": {},
   "outputs": [],
   "source": []
  },
  {
   "cell_type": "code",
   "execution_count": null,
   "metadata": {},
   "outputs": [],
   "source": [
    "   "
   ]
  },
  {
   "cell_type": "code",
   "execution_count": null,
   "metadata": {},
   "outputs": [],
   "source": []
  },
  {
   "cell_type": "code",
   "execution_count": null,
   "metadata": {},
   "outputs": [],
   "source": []
  }
 ],
 "metadata": {
  "kernelspec": {
   "display_name": "Python 3",
   "language": "python",
   "name": "python3"
  },
  "language_info": {
   "codemirror_mode": {
    "name": "ipython",
    "version": 3
   },
   "file_extension": ".py",
   "mimetype": "text/x-python",
   "name": "python",
   "nbconvert_exporter": "python",
   "pygments_lexer": "ipython3",
   "version": "3.8.5"
  }
 },
 "nbformat": 4,
 "nbformat_minor": 4
}
