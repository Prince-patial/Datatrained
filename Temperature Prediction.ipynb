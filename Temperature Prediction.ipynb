{
 "cells": [
  {
   "cell_type": "code",
   "execution_count": 1,
   "metadata": {},
   "outputs": [],
   "source": [
    "import pandas as pd\n",
    "import numpy as np\n",
    "from sklearn.preprocessing import StandardScaler\n",
    "from sklearn.linear_model import LogisticRegression\n",
    "from sklearn.model_selection import train_test_split\n",
    "from statsmodels.stats.outliers_influence import variance_inflation_factor\n",
    "from sklearn.metrics import accuracy_score, confusion_matrix, classification_report, roc_curve, roc_auc_score\n",
    "import statsmodels.api as sm\n",
    "import matplotlib.pyplot as plt\n",
    "import seaborn as sns\n",
    "import pickle\n",
    "import warnings\n",
    "warnings.filterwarnings('ignore')"
   ]
  },
  {
   "cell_type": "markdown",
   "metadata": {},
   "source": [
    "##  Loading Dataset"
   ]
  },
  {
   "cell_type": "code",
   "execution_count": 2,
   "metadata": {},
   "outputs": [],
   "source": [
    "data = pd.read_csv(\"https://raw.githubusercontent.com/dsrscientist/Dataset2/main/temperature.csv\")"
   ]
  },
  {
   "cell_type": "markdown",
   "metadata": {},
   "source": [
    "Attribute Information:\n",
    "\n",
    "For more information, read [Cho et al, 2020].\n",
    "1. station - used weather station number: 1 to 25\n",
    "2. Date - Present day: yyyy-mm-dd ('2013-06-30' to '2017-08-30')\n",
    "3. Present_Tmax - Maximum air temperature between 0 and 21 h on the present day (Â°C): 20 to 37.6\n",
    "4. Present_Tmin - Minimum air temperature between 0 and 21 h on the present day (Â°C): 11.3 to 29.9\n",
    "5. LDAPS_RHmin - LDAPS model forecast of next-day minimum relative humidity (%): 19.8 to 98.5\n",
    "6. LDAPS_RHmax - LDAPS model forecast of next-day maximum relative humidity (%): 58.9 to 100\n",
    "7. LDAPS_Tmax_lapse - LDAPS model forecast of next-day maximum air temperature applied lapse rate (Â°C): 17.6 to 38.5\n",
    "8. LDAPS_Tmin_lapse - LDAPS model forecast of next-day minimum air temperature applied lapse rate (Â°C): 14.3 to 29.6\n",
    "9. LDAPS_WS - LDAPS model forecast of next-day average wind speed (m/s): 2.9 to 21.9\n",
    "10. LDAPS_LH - LDAPS model forecast of next-day average latent heat flux (W/m2): -13.6 to 213.4\n",
    "11. LDAPS_CC1 - LDAPS model forecast of next-day 1st 6-hour split average cloud cover (0-5 h) (%): 0 to 0.97\n",
    "12. LDAPS_CC2 - LDAPS model forecast of next-day 2nd 6-hour split average cloud cover (6-11 h) (%): 0 to 0.97\n",
    "13. LDAPS_CC3 - LDAPS model forecast of next-day 3rd 6-hour split average cloud cover (12-17 h) (%): 0 to 0.98\n",
    "14. LDAPS_CC4 - LDAPS model forecast of next-day 4th 6-hour split average cloud cover (18-23 h) (%): 0 to 0.97\n",
    "15. LDAPS_PPT1 - LDAPS model forecast of next-day 1st 6-hour split average precipitation (0-5 h) (%): 0 to 23.7\n",
    "16. LDAPS_PPT2 - LDAPS model forecast of next-day 2nd 6-hour split average precipitation (6-11 h) (%): 0 to 21.6\n",
    "17. LDAPS_PPT3 - LDAPS model forecast of next-day 3rd 6-hour split average precipitation (12-17 h) (%): 0 to 15.8\n",
    "18. LDAPS_PPT4 - LDAPS model forecast of next-day 4th 6-hour split average precipitation (18-23 h) (%): 0 to 16.7\n",
    "19. lat - Latitude (Â°): 37.456 to 37.645\n",
    "20. lon - Longitude (Â°): 126.826 to 127.135\n",
    "21. DEM - Elevation (m): 12.4 to 212.3\n",
    "22. Slope - Slope (Â°): 0.1 to 5.2\n",
    "23. Solar radiation - Daily incoming solar radiation (wh/m2): 4329.5 to 5992.9\n",
    "24. Next_Tmax - The next-day maximum air temperature (Â°C): 17.4 to 38.9\n",
    "25. Next_Tmin - The next-day minimum air temperature (Â°C): 11.3 to 29.8T\n",
    "\n",
    "Please note that there are two target variables here: \n",
    "\n",
    "1) Next_Tmax: Next day maximum temperature\n",
    "\n",
    "2) Next_Tmin: Next day  minimum temperature\n",
    "\n"
   ]
  },
  {
   "cell_type": "code",
   "execution_count": 3,
   "metadata": {},
   "outputs": [
    {
     "data": {
      "text/plain": [
       "(7752, 25)"
      ]
     },
     "execution_count": 3,
     "metadata": {},
     "output_type": "execute_result"
    }
   ],
   "source": [
    "data.shape # We have 7752 rows and 25 columns"
   ]
  },
  {
   "cell_type": "code",
   "execution_count": 4,
   "metadata": {},
   "outputs": [
    {
     "data": {
      "text/html": [
       "<div>\n",
       "<style scoped>\n",
       "    .dataframe tbody tr th:only-of-type {\n",
       "        vertical-align: middle;\n",
       "    }\n",
       "\n",
       "    .dataframe tbody tr th {\n",
       "        vertical-align: top;\n",
       "    }\n",
       "\n",
       "    .dataframe thead th {\n",
       "        text-align: right;\n",
       "    }\n",
       "</style>\n",
       "<table border=\"1\" class=\"dataframe\">\n",
       "  <thead>\n",
       "    <tr style=\"text-align: right;\">\n",
       "      <th></th>\n",
       "      <th>station</th>\n",
       "      <th>Date</th>\n",
       "      <th>Present_Tmax</th>\n",
       "      <th>Present_Tmin</th>\n",
       "      <th>LDAPS_RHmin</th>\n",
       "      <th>LDAPS_RHmax</th>\n",
       "      <th>LDAPS_Tmax_lapse</th>\n",
       "      <th>LDAPS_Tmin_lapse</th>\n",
       "      <th>LDAPS_WS</th>\n",
       "      <th>LDAPS_LH</th>\n",
       "      <th>...</th>\n",
       "      <th>LDAPS_PPT2</th>\n",
       "      <th>LDAPS_PPT3</th>\n",
       "      <th>LDAPS_PPT4</th>\n",
       "      <th>lat</th>\n",
       "      <th>lon</th>\n",
       "      <th>DEM</th>\n",
       "      <th>Slope</th>\n",
       "      <th>Solar radiation</th>\n",
       "      <th>Next_Tmax</th>\n",
       "      <th>Next_Tmin</th>\n",
       "    </tr>\n",
       "  </thead>\n",
       "  <tbody>\n",
       "    <tr>\n",
       "      <th>0</th>\n",
       "      <td>1.0</td>\n",
       "      <td>30-06-2013</td>\n",
       "      <td>28.7</td>\n",
       "      <td>21.4</td>\n",
       "      <td>58.255688</td>\n",
       "      <td>91.116364</td>\n",
       "      <td>28.074101</td>\n",
       "      <td>23.006936</td>\n",
       "      <td>6.818887</td>\n",
       "      <td>69.451805</td>\n",
       "      <td>...</td>\n",
       "      <td>0.0</td>\n",
       "      <td>0.0</td>\n",
       "      <td>0.0</td>\n",
       "      <td>37.6046</td>\n",
       "      <td>126.991</td>\n",
       "      <td>212.3350</td>\n",
       "      <td>2.7850</td>\n",
       "      <td>5992.895996</td>\n",
       "      <td>29.1</td>\n",
       "      <td>21.2</td>\n",
       "    </tr>\n",
       "    <tr>\n",
       "      <th>1</th>\n",
       "      <td>2.0</td>\n",
       "      <td>30-06-2013</td>\n",
       "      <td>31.9</td>\n",
       "      <td>21.6</td>\n",
       "      <td>52.263397</td>\n",
       "      <td>90.604721</td>\n",
       "      <td>29.850689</td>\n",
       "      <td>24.035009</td>\n",
       "      <td>5.691890</td>\n",
       "      <td>51.937448</td>\n",
       "      <td>...</td>\n",
       "      <td>0.0</td>\n",
       "      <td>0.0</td>\n",
       "      <td>0.0</td>\n",
       "      <td>37.6046</td>\n",
       "      <td>127.032</td>\n",
       "      <td>44.7624</td>\n",
       "      <td>0.5141</td>\n",
       "      <td>5869.312500</td>\n",
       "      <td>30.5</td>\n",
       "      <td>22.5</td>\n",
       "    </tr>\n",
       "    <tr>\n",
       "      <th>2</th>\n",
       "      <td>3.0</td>\n",
       "      <td>30-06-2013</td>\n",
       "      <td>31.6</td>\n",
       "      <td>23.3</td>\n",
       "      <td>48.690479</td>\n",
       "      <td>83.973587</td>\n",
       "      <td>30.091292</td>\n",
       "      <td>24.565633</td>\n",
       "      <td>6.138224</td>\n",
       "      <td>20.573050</td>\n",
       "      <td>...</td>\n",
       "      <td>0.0</td>\n",
       "      <td>0.0</td>\n",
       "      <td>0.0</td>\n",
       "      <td>37.5776</td>\n",
       "      <td>127.058</td>\n",
       "      <td>33.3068</td>\n",
       "      <td>0.2661</td>\n",
       "      <td>5863.555664</td>\n",
       "      <td>31.1</td>\n",
       "      <td>23.9</td>\n",
       "    </tr>\n",
       "    <tr>\n",
       "      <th>3</th>\n",
       "      <td>4.0</td>\n",
       "      <td>30-06-2013</td>\n",
       "      <td>32.0</td>\n",
       "      <td>23.4</td>\n",
       "      <td>58.239788</td>\n",
       "      <td>96.483688</td>\n",
       "      <td>29.704629</td>\n",
       "      <td>23.326177</td>\n",
       "      <td>5.650050</td>\n",
       "      <td>65.727144</td>\n",
       "      <td>...</td>\n",
       "      <td>0.0</td>\n",
       "      <td>0.0</td>\n",
       "      <td>0.0</td>\n",
       "      <td>37.6450</td>\n",
       "      <td>127.022</td>\n",
       "      <td>45.7160</td>\n",
       "      <td>2.5348</td>\n",
       "      <td>5856.964844</td>\n",
       "      <td>31.7</td>\n",
       "      <td>24.3</td>\n",
       "    </tr>\n",
       "    <tr>\n",
       "      <th>4</th>\n",
       "      <td>5.0</td>\n",
       "      <td>30-06-2013</td>\n",
       "      <td>31.4</td>\n",
       "      <td>21.9</td>\n",
       "      <td>56.174095</td>\n",
       "      <td>90.155128</td>\n",
       "      <td>29.113934</td>\n",
       "      <td>23.486480</td>\n",
       "      <td>5.735004</td>\n",
       "      <td>107.965535</td>\n",
       "      <td>...</td>\n",
       "      <td>0.0</td>\n",
       "      <td>0.0</td>\n",
       "      <td>0.0</td>\n",
       "      <td>37.5507</td>\n",
       "      <td>127.135</td>\n",
       "      <td>35.0380</td>\n",
       "      <td>0.5055</td>\n",
       "      <td>5859.552246</td>\n",
       "      <td>31.2</td>\n",
       "      <td>22.5</td>\n",
       "    </tr>\n",
       "  </tbody>\n",
       "</table>\n",
       "<p>5 rows × 25 columns</p>\n",
       "</div>"
      ],
      "text/plain": [
       "   station        Date  Present_Tmax  Present_Tmin  LDAPS_RHmin  LDAPS_RHmax  \\\n",
       "0      1.0  30-06-2013          28.7          21.4    58.255688    91.116364   \n",
       "1      2.0  30-06-2013          31.9          21.6    52.263397    90.604721   \n",
       "2      3.0  30-06-2013          31.6          23.3    48.690479    83.973587   \n",
       "3      4.0  30-06-2013          32.0          23.4    58.239788    96.483688   \n",
       "4      5.0  30-06-2013          31.4          21.9    56.174095    90.155128   \n",
       "\n",
       "   LDAPS_Tmax_lapse  LDAPS_Tmin_lapse  LDAPS_WS    LDAPS_LH  ...  LDAPS_PPT2  \\\n",
       "0         28.074101         23.006936  6.818887   69.451805  ...         0.0   \n",
       "1         29.850689         24.035009  5.691890   51.937448  ...         0.0   \n",
       "2         30.091292         24.565633  6.138224   20.573050  ...         0.0   \n",
       "3         29.704629         23.326177  5.650050   65.727144  ...         0.0   \n",
       "4         29.113934         23.486480  5.735004  107.965535  ...         0.0   \n",
       "\n",
       "   LDAPS_PPT3  LDAPS_PPT4      lat      lon       DEM   Slope  \\\n",
       "0         0.0         0.0  37.6046  126.991  212.3350  2.7850   \n",
       "1         0.0         0.0  37.6046  127.032   44.7624  0.5141   \n",
       "2         0.0         0.0  37.5776  127.058   33.3068  0.2661   \n",
       "3         0.0         0.0  37.6450  127.022   45.7160  2.5348   \n",
       "4         0.0         0.0  37.5507  127.135   35.0380  0.5055   \n",
       "\n",
       "   Solar radiation  Next_Tmax  Next_Tmin  \n",
       "0      5992.895996       29.1       21.2  \n",
       "1      5869.312500       30.5       22.5  \n",
       "2      5863.555664       31.1       23.9  \n",
       "3      5856.964844       31.7       24.3  \n",
       "4      5859.552246       31.2       22.5  \n",
       "\n",
       "[5 rows x 25 columns]"
      ]
     },
     "execution_count": 4,
     "metadata": {},
     "output_type": "execute_result"
    }
   ],
   "source": [
    "data.head() # Checking top 5 rows of our dataset"
   ]
  },
  {
   "cell_type": "code",
   "execution_count": 5,
   "metadata": {
    "scrolled": true
   },
   "outputs": [
    {
     "data": {
      "text/html": [
       "<div>\n",
       "<style scoped>\n",
       "    .dataframe tbody tr th:only-of-type {\n",
       "        vertical-align: middle;\n",
       "    }\n",
       "\n",
       "    .dataframe tbody tr th {\n",
       "        vertical-align: top;\n",
       "    }\n",
       "\n",
       "    .dataframe thead th {\n",
       "        text-align: right;\n",
       "    }\n",
       "</style>\n",
       "<table border=\"1\" class=\"dataframe\">\n",
       "  <thead>\n",
       "    <tr style=\"text-align: right;\">\n",
       "      <th></th>\n",
       "      <th>station</th>\n",
       "      <th>Present_Tmax</th>\n",
       "      <th>Present_Tmin</th>\n",
       "      <th>LDAPS_RHmin</th>\n",
       "      <th>LDAPS_RHmax</th>\n",
       "      <th>LDAPS_Tmax_lapse</th>\n",
       "      <th>LDAPS_Tmin_lapse</th>\n",
       "      <th>LDAPS_WS</th>\n",
       "      <th>LDAPS_LH</th>\n",
       "      <th>LDAPS_CC1</th>\n",
       "      <th>...</th>\n",
       "      <th>LDAPS_PPT2</th>\n",
       "      <th>LDAPS_PPT3</th>\n",
       "      <th>LDAPS_PPT4</th>\n",
       "      <th>lat</th>\n",
       "      <th>lon</th>\n",
       "      <th>DEM</th>\n",
       "      <th>Slope</th>\n",
       "      <th>Solar radiation</th>\n",
       "      <th>Next_Tmax</th>\n",
       "      <th>Next_Tmin</th>\n",
       "    </tr>\n",
       "  </thead>\n",
       "  <tbody>\n",
       "    <tr>\n",
       "      <th>count</th>\n",
       "      <td>7750.000000</td>\n",
       "      <td>7682.000000</td>\n",
       "      <td>7682.000000</td>\n",
       "      <td>7677.000000</td>\n",
       "      <td>7677.000000</td>\n",
       "      <td>7677.000000</td>\n",
       "      <td>7677.000000</td>\n",
       "      <td>7677.000000</td>\n",
       "      <td>7677.000000</td>\n",
       "      <td>7677.000000</td>\n",
       "      <td>...</td>\n",
       "      <td>7677.000000</td>\n",
       "      <td>7677.000000</td>\n",
       "      <td>7677.000000</td>\n",
       "      <td>7752.000000</td>\n",
       "      <td>7752.000000</td>\n",
       "      <td>7752.000000</td>\n",
       "      <td>7752.000000</td>\n",
       "      <td>7752.000000</td>\n",
       "      <td>7725.000000</td>\n",
       "      <td>7725.000000</td>\n",
       "    </tr>\n",
       "    <tr>\n",
       "      <th>mean</th>\n",
       "      <td>13.000000</td>\n",
       "      <td>29.768211</td>\n",
       "      <td>23.225059</td>\n",
       "      <td>56.759372</td>\n",
       "      <td>88.374804</td>\n",
       "      <td>29.613447</td>\n",
       "      <td>23.512589</td>\n",
       "      <td>7.097875</td>\n",
       "      <td>62.505019</td>\n",
       "      <td>0.368774</td>\n",
       "      <td>...</td>\n",
       "      <td>0.485003</td>\n",
       "      <td>0.278200</td>\n",
       "      <td>0.269407</td>\n",
       "      <td>37.544722</td>\n",
       "      <td>126.991397</td>\n",
       "      <td>61.867972</td>\n",
       "      <td>1.257048</td>\n",
       "      <td>5341.502803</td>\n",
       "      <td>30.274887</td>\n",
       "      <td>22.932220</td>\n",
       "    </tr>\n",
       "    <tr>\n",
       "      <th>std</th>\n",
       "      <td>7.211568</td>\n",
       "      <td>2.969999</td>\n",
       "      <td>2.413961</td>\n",
       "      <td>14.668111</td>\n",
       "      <td>7.192004</td>\n",
       "      <td>2.947191</td>\n",
       "      <td>2.345347</td>\n",
       "      <td>2.183836</td>\n",
       "      <td>33.730589</td>\n",
       "      <td>0.262458</td>\n",
       "      <td>...</td>\n",
       "      <td>1.762807</td>\n",
       "      <td>1.161809</td>\n",
       "      <td>1.206214</td>\n",
       "      <td>0.050352</td>\n",
       "      <td>0.079435</td>\n",
       "      <td>54.279780</td>\n",
       "      <td>1.370444</td>\n",
       "      <td>429.158867</td>\n",
       "      <td>3.128010</td>\n",
       "      <td>2.487613</td>\n",
       "    </tr>\n",
       "    <tr>\n",
       "      <th>min</th>\n",
       "      <td>1.000000</td>\n",
       "      <td>20.000000</td>\n",
       "      <td>11.300000</td>\n",
       "      <td>19.794666</td>\n",
       "      <td>58.936283</td>\n",
       "      <td>17.624954</td>\n",
       "      <td>14.272646</td>\n",
       "      <td>2.882580</td>\n",
       "      <td>-13.603212</td>\n",
       "      <td>0.000000</td>\n",
       "      <td>...</td>\n",
       "      <td>0.000000</td>\n",
       "      <td>0.000000</td>\n",
       "      <td>0.000000</td>\n",
       "      <td>37.456200</td>\n",
       "      <td>126.826000</td>\n",
       "      <td>12.370000</td>\n",
       "      <td>0.098475</td>\n",
       "      <td>4329.520508</td>\n",
       "      <td>17.400000</td>\n",
       "      <td>11.300000</td>\n",
       "    </tr>\n",
       "    <tr>\n",
       "      <th>25%</th>\n",
       "      <td>7.000000</td>\n",
       "      <td>27.800000</td>\n",
       "      <td>21.700000</td>\n",
       "      <td>45.963543</td>\n",
       "      <td>84.222862</td>\n",
       "      <td>27.673499</td>\n",
       "      <td>22.089739</td>\n",
       "      <td>5.678705</td>\n",
       "      <td>37.266753</td>\n",
       "      <td>0.146654</td>\n",
       "      <td>...</td>\n",
       "      <td>0.000000</td>\n",
       "      <td>0.000000</td>\n",
       "      <td>0.000000</td>\n",
       "      <td>37.510200</td>\n",
       "      <td>126.937000</td>\n",
       "      <td>28.700000</td>\n",
       "      <td>0.271300</td>\n",
       "      <td>4999.018555</td>\n",
       "      <td>28.200000</td>\n",
       "      <td>21.300000</td>\n",
       "    </tr>\n",
       "    <tr>\n",
       "      <th>50%</th>\n",
       "      <td>13.000000</td>\n",
       "      <td>29.900000</td>\n",
       "      <td>23.400000</td>\n",
       "      <td>55.039024</td>\n",
       "      <td>89.793480</td>\n",
       "      <td>29.703426</td>\n",
       "      <td>23.760199</td>\n",
       "      <td>6.547470</td>\n",
       "      <td>56.865482</td>\n",
       "      <td>0.315697</td>\n",
       "      <td>...</td>\n",
       "      <td>0.000000</td>\n",
       "      <td>0.000000</td>\n",
       "      <td>0.000000</td>\n",
       "      <td>37.550700</td>\n",
       "      <td>126.995000</td>\n",
       "      <td>45.716000</td>\n",
       "      <td>0.618000</td>\n",
       "      <td>5436.345215</td>\n",
       "      <td>30.500000</td>\n",
       "      <td>23.100000</td>\n",
       "    </tr>\n",
       "    <tr>\n",
       "      <th>75%</th>\n",
       "      <td>19.000000</td>\n",
       "      <td>32.000000</td>\n",
       "      <td>24.900000</td>\n",
       "      <td>67.190056</td>\n",
       "      <td>93.743629</td>\n",
       "      <td>31.710450</td>\n",
       "      <td>25.152909</td>\n",
       "      <td>8.032276</td>\n",
       "      <td>84.223616</td>\n",
       "      <td>0.575489</td>\n",
       "      <td>...</td>\n",
       "      <td>0.018364</td>\n",
       "      <td>0.007896</td>\n",
       "      <td>0.000041</td>\n",
       "      <td>37.577600</td>\n",
       "      <td>127.042000</td>\n",
       "      <td>59.832400</td>\n",
       "      <td>1.767800</td>\n",
       "      <td>5728.316406</td>\n",
       "      <td>32.600000</td>\n",
       "      <td>24.600000</td>\n",
       "    </tr>\n",
       "    <tr>\n",
       "      <th>max</th>\n",
       "      <td>25.000000</td>\n",
       "      <td>37.600000</td>\n",
       "      <td>29.900000</td>\n",
       "      <td>98.524734</td>\n",
       "      <td>100.000153</td>\n",
       "      <td>38.542255</td>\n",
       "      <td>29.619342</td>\n",
       "      <td>21.857621</td>\n",
       "      <td>213.414006</td>\n",
       "      <td>0.967277</td>\n",
       "      <td>...</td>\n",
       "      <td>21.621661</td>\n",
       "      <td>15.841235</td>\n",
       "      <td>16.655469</td>\n",
       "      <td>37.645000</td>\n",
       "      <td>127.135000</td>\n",
       "      <td>212.335000</td>\n",
       "      <td>5.178230</td>\n",
       "      <td>5992.895996</td>\n",
       "      <td>38.900000</td>\n",
       "      <td>29.800000</td>\n",
       "    </tr>\n",
       "  </tbody>\n",
       "</table>\n",
       "<p>8 rows × 24 columns</p>\n",
       "</div>"
      ],
      "text/plain": [
       "           station  Present_Tmax  Present_Tmin  LDAPS_RHmin  LDAPS_RHmax  \\\n",
       "count  7750.000000   7682.000000   7682.000000  7677.000000  7677.000000   \n",
       "mean     13.000000     29.768211     23.225059    56.759372    88.374804   \n",
       "std       7.211568      2.969999      2.413961    14.668111     7.192004   \n",
       "min       1.000000     20.000000     11.300000    19.794666    58.936283   \n",
       "25%       7.000000     27.800000     21.700000    45.963543    84.222862   \n",
       "50%      13.000000     29.900000     23.400000    55.039024    89.793480   \n",
       "75%      19.000000     32.000000     24.900000    67.190056    93.743629   \n",
       "max      25.000000     37.600000     29.900000    98.524734   100.000153   \n",
       "\n",
       "       LDAPS_Tmax_lapse  LDAPS_Tmin_lapse     LDAPS_WS     LDAPS_LH  \\\n",
       "count       7677.000000       7677.000000  7677.000000  7677.000000   \n",
       "mean          29.613447         23.512589     7.097875    62.505019   \n",
       "std            2.947191          2.345347     2.183836    33.730589   \n",
       "min           17.624954         14.272646     2.882580   -13.603212   \n",
       "25%           27.673499         22.089739     5.678705    37.266753   \n",
       "50%           29.703426         23.760199     6.547470    56.865482   \n",
       "75%           31.710450         25.152909     8.032276    84.223616   \n",
       "max           38.542255         29.619342    21.857621   213.414006   \n",
       "\n",
       "         LDAPS_CC1  ...   LDAPS_PPT2   LDAPS_PPT3   LDAPS_PPT4          lat  \\\n",
       "count  7677.000000  ...  7677.000000  7677.000000  7677.000000  7752.000000   \n",
       "mean      0.368774  ...     0.485003     0.278200     0.269407    37.544722   \n",
       "std       0.262458  ...     1.762807     1.161809     1.206214     0.050352   \n",
       "min       0.000000  ...     0.000000     0.000000     0.000000    37.456200   \n",
       "25%       0.146654  ...     0.000000     0.000000     0.000000    37.510200   \n",
       "50%       0.315697  ...     0.000000     0.000000     0.000000    37.550700   \n",
       "75%       0.575489  ...     0.018364     0.007896     0.000041    37.577600   \n",
       "max       0.967277  ...    21.621661    15.841235    16.655469    37.645000   \n",
       "\n",
       "               lon          DEM        Slope  Solar radiation    Next_Tmax  \\\n",
       "count  7752.000000  7752.000000  7752.000000      7752.000000  7725.000000   \n",
       "mean    126.991397    61.867972     1.257048      5341.502803    30.274887   \n",
       "std       0.079435    54.279780     1.370444       429.158867     3.128010   \n",
       "min     126.826000    12.370000     0.098475      4329.520508    17.400000   \n",
       "25%     126.937000    28.700000     0.271300      4999.018555    28.200000   \n",
       "50%     126.995000    45.716000     0.618000      5436.345215    30.500000   \n",
       "75%     127.042000    59.832400     1.767800      5728.316406    32.600000   \n",
       "max     127.135000   212.335000     5.178230      5992.895996    38.900000   \n",
       "\n",
       "         Next_Tmin  \n",
       "count  7725.000000  \n",
       "mean     22.932220  \n",
       "std       2.487613  \n",
       "min      11.300000  \n",
       "25%      21.300000  \n",
       "50%      23.100000  \n",
       "75%      24.600000  \n",
       "max      29.800000  \n",
       "\n",
       "[8 rows x 24 columns]"
      ]
     },
     "execution_count": 5,
     "metadata": {},
     "output_type": "execute_result"
    }
   ],
   "source": [
    "data.describe()"
   ]
  },
  {
   "cell_type": "markdown",
   "metadata": {},
   "source": [
    "### Observations\n",
    "#### We have missing values in number of columns\n",
    "#### Label columns are too of numerical datatype hence this is a regression problem"
   ]
  },
  {
   "cell_type": "code",
   "execution_count": 6,
   "metadata": {},
   "outputs": [
    {
     "data": {
      "text/plain": [
       "station             float64\n",
       "Date                 object\n",
       "Present_Tmax        float64\n",
       "Present_Tmin        float64\n",
       "LDAPS_RHmin         float64\n",
       "LDAPS_RHmax         float64\n",
       "LDAPS_Tmax_lapse    float64\n",
       "LDAPS_Tmin_lapse    float64\n",
       "LDAPS_WS            float64\n",
       "LDAPS_LH            float64\n",
       "LDAPS_CC1           float64\n",
       "LDAPS_CC2           float64\n",
       "LDAPS_CC3           float64\n",
       "LDAPS_CC4           float64\n",
       "LDAPS_PPT1          float64\n",
       "LDAPS_PPT2          float64\n",
       "LDAPS_PPT3          float64\n",
       "LDAPS_PPT4          float64\n",
       "lat                 float64\n",
       "lon                 float64\n",
       "DEM                 float64\n",
       "Slope               float64\n",
       "Solar radiation     float64\n",
       "Next_Tmax           float64\n",
       "Next_Tmin           float64\n",
       "dtype: object"
      ]
     },
     "execution_count": 6,
     "metadata": {},
     "output_type": "execute_result"
    }
   ],
   "source": [
    "data.dtypes # check datatype of all the coulumns"
   ]
  },
  {
   "cell_type": "code",
   "execution_count": 7,
   "metadata": {},
   "outputs": [
    {
     "name": "stdout",
     "output_type": "stream",
     "text": [
      "<class 'pandas.core.frame.DataFrame'>\n",
      "RangeIndex: 7752 entries, 0 to 7751\n",
      "Data columns (total 25 columns):\n",
      " #   Column            Non-Null Count  Dtype  \n",
      "---  ------            --------------  -----  \n",
      " 0   station           7750 non-null   float64\n",
      " 1   Date              7750 non-null   object \n",
      " 2   Present_Tmax      7682 non-null   float64\n",
      " 3   Present_Tmin      7682 non-null   float64\n",
      " 4   LDAPS_RHmin       7677 non-null   float64\n",
      " 5   LDAPS_RHmax       7677 non-null   float64\n",
      " 6   LDAPS_Tmax_lapse  7677 non-null   float64\n",
      " 7   LDAPS_Tmin_lapse  7677 non-null   float64\n",
      " 8   LDAPS_WS          7677 non-null   float64\n",
      " 9   LDAPS_LH          7677 non-null   float64\n",
      " 10  LDAPS_CC1         7677 non-null   float64\n",
      " 11  LDAPS_CC2         7677 non-null   float64\n",
      " 12  LDAPS_CC3         7677 non-null   float64\n",
      " 13  LDAPS_CC4         7677 non-null   float64\n",
      " 14  LDAPS_PPT1        7677 non-null   float64\n",
      " 15  LDAPS_PPT2        7677 non-null   float64\n",
      " 16  LDAPS_PPT3        7677 non-null   float64\n",
      " 17  LDAPS_PPT4        7677 non-null   float64\n",
      " 18  lat               7752 non-null   float64\n",
      " 19  lon               7752 non-null   float64\n",
      " 20  DEM               7752 non-null   float64\n",
      " 21  Slope             7752 non-null   float64\n",
      " 22  Solar radiation   7752 non-null   float64\n",
      " 23  Next_Tmax         7725 non-null   float64\n",
      " 24  Next_Tmin         7725 non-null   float64\n",
      "dtypes: float64(24), object(1)\n",
      "memory usage: 1.5+ MB\n"
     ]
    }
   ],
   "source": [
    "# Except date, all our columns are having numerical datatype\n",
    "data.info()"
   ]
  },
  {
   "cell_type": "code",
   "execution_count": 8,
   "metadata": {},
   "outputs": [
    {
     "data": {
      "text/plain": [
       "station               25\n",
       "Date                 310\n",
       "Present_Tmax         167\n",
       "Present_Tmin         155\n",
       "LDAPS_RHmin         7672\n",
       "LDAPS_RHmax         7664\n",
       "LDAPS_Tmax_lapse    7675\n",
       "LDAPS_Tmin_lapse    7675\n",
       "LDAPS_WS            7675\n",
       "LDAPS_LH            7675\n",
       "LDAPS_CC1           7569\n",
       "LDAPS_CC2           7582\n",
       "LDAPS_CC3           7599\n",
       "LDAPS_CC4           7524\n",
       "LDAPS_PPT1          2812\n",
       "LDAPS_PPT2          2510\n",
       "LDAPS_PPT3          2356\n",
       "LDAPS_PPT4          1918\n",
       "lat                   12\n",
       "lon                   25\n",
       "DEM                   25\n",
       "Slope                 27\n",
       "Solar radiation     1575\n",
       "Next_Tmax            183\n",
       "Next_Tmin            157\n",
       "dtype: int64"
      ]
     },
     "execution_count": 8,
     "metadata": {},
     "output_type": "execute_result"
    }
   ],
   "source": [
    "# We have null values in some of our columns\n",
    "data.nunique()"
   ]
  },
  {
   "cell_type": "code",
   "execution_count": 9,
   "metadata": {},
   "outputs": [
    {
     "data": {
      "text/plain": [
       "station              2\n",
       "Date                 2\n",
       "Present_Tmax        70\n",
       "Present_Tmin        70\n",
       "LDAPS_RHmin         75\n",
       "LDAPS_RHmax         75\n",
       "LDAPS_Tmax_lapse    75\n",
       "LDAPS_Tmin_lapse    75\n",
       "LDAPS_WS            75\n",
       "LDAPS_LH            75\n",
       "LDAPS_CC1           75\n",
       "LDAPS_CC2           75\n",
       "LDAPS_CC3           75\n",
       "LDAPS_CC4           75\n",
       "LDAPS_PPT1          75\n",
       "LDAPS_PPT2          75\n",
       "LDAPS_PPT3          75\n",
       "LDAPS_PPT4          75\n",
       "lat                  0\n",
       "lon                  0\n",
       "DEM                  0\n",
       "Slope                0\n",
       "Solar radiation      0\n",
       "Next_Tmax           27\n",
       "Next_Tmin           27\n",
       "dtype: int64"
      ]
     },
     "execution_count": 9,
     "metadata": {},
     "output_type": "execute_result"
    }
   ],
   "source": [
    "data.isnull().sum()"
   ]
  },
  {
   "cell_type": "code",
   "execution_count": 10,
   "metadata": {},
   "outputs": [],
   "source": [
    "cleaned_data = data.dropna(axis = 0, inplace = False) # Dropping rows where we have null values"
   ]
  },
  {
   "cell_type": "code",
   "execution_count": 11,
   "metadata": {},
   "outputs": [],
   "source": [
    "#Changing date to datetime datatype and extracting year, month and day from it\n",
    "\n",
    "cleaned_data['Date'] = pd.to_datetime(data['Date'])\n",
    "cleaned_data['year']=cleaned_data['Date'].dt.year \n",
    "cleaned_data['month']=cleaned_data['Date'].dt.month \n",
    "cleaned_data['day']=cleaned_data['Date'].dt.day\n",
    "cleaned_data = cleaned_data.drop(columns = \"Date\")# we don't need this column now"
   ]
  },
  {
   "cell_type": "code",
   "execution_count": 12,
   "metadata": {},
   "outputs": [
    {
     "name": "stdout",
     "output_type": "stream",
     "text": [
      "<class 'pandas.core.frame.DataFrame'>\n",
      "Int64Index: 7588 entries, 0 to 7749\n",
      "Data columns (total 27 columns):\n",
      " #   Column            Non-Null Count  Dtype  \n",
      "---  ------            --------------  -----  \n",
      " 0   station           7588 non-null   float64\n",
      " 1   Present_Tmax      7588 non-null   float64\n",
      " 2   Present_Tmin      7588 non-null   float64\n",
      " 3   LDAPS_RHmin       7588 non-null   float64\n",
      " 4   LDAPS_RHmax       7588 non-null   float64\n",
      " 5   LDAPS_Tmax_lapse  7588 non-null   float64\n",
      " 6   LDAPS_Tmin_lapse  7588 non-null   float64\n",
      " 7   LDAPS_WS          7588 non-null   float64\n",
      " 8   LDAPS_LH          7588 non-null   float64\n",
      " 9   LDAPS_CC1         7588 non-null   float64\n",
      " 10  LDAPS_CC2         7588 non-null   float64\n",
      " 11  LDAPS_CC3         7588 non-null   float64\n",
      " 12  LDAPS_CC4         7588 non-null   float64\n",
      " 13  LDAPS_PPT1        7588 non-null   float64\n",
      " 14  LDAPS_PPT2        7588 non-null   float64\n",
      " 15  LDAPS_PPT3        7588 non-null   float64\n",
      " 16  LDAPS_PPT4        7588 non-null   float64\n",
      " 17  lat               7588 non-null   float64\n",
      " 18  lon               7588 non-null   float64\n",
      " 19  DEM               7588 non-null   float64\n",
      " 20  Slope             7588 non-null   float64\n",
      " 21  Solar radiation   7588 non-null   float64\n",
      " 22  Next_Tmax         7588 non-null   float64\n",
      " 23  Next_Tmin         7588 non-null   float64\n",
      " 24  year              7588 non-null   int64  \n",
      " 25  month             7588 non-null   int64  \n",
      " 26  day               7588 non-null   int64  \n",
      "dtypes: float64(24), int64(3)\n",
      "memory usage: 1.6 MB\n"
     ]
    }
   ],
   "source": [
    "cleaned_data.info() # checking for nulls and datatype of coulumns"
   ]
  },
  {
   "cell_type": "code",
   "execution_count": 13,
   "metadata": {},
   "outputs": [
    {
     "data": {
      "text/html": [
       "<div>\n",
       "<style scoped>\n",
       "    .dataframe tbody tr th:only-of-type {\n",
       "        vertical-align: middle;\n",
       "    }\n",
       "\n",
       "    .dataframe tbody tr th {\n",
       "        vertical-align: top;\n",
       "    }\n",
       "\n",
       "    .dataframe thead th {\n",
       "        text-align: right;\n",
       "    }\n",
       "</style>\n",
       "<table border=\"1\" class=\"dataframe\">\n",
       "  <thead>\n",
       "    <tr style=\"text-align: right;\">\n",
       "      <th></th>\n",
       "      <th>station</th>\n",
       "      <th>Present_Tmax</th>\n",
       "      <th>Present_Tmin</th>\n",
       "      <th>LDAPS_RHmin</th>\n",
       "      <th>LDAPS_RHmax</th>\n",
       "      <th>LDAPS_Tmax_lapse</th>\n",
       "      <th>LDAPS_Tmin_lapse</th>\n",
       "      <th>LDAPS_WS</th>\n",
       "      <th>LDAPS_LH</th>\n",
       "      <th>LDAPS_CC1</th>\n",
       "      <th>...</th>\n",
       "      <th>lat</th>\n",
       "      <th>lon</th>\n",
       "      <th>DEM</th>\n",
       "      <th>Slope</th>\n",
       "      <th>Solar radiation</th>\n",
       "      <th>Next_Tmax</th>\n",
       "      <th>Next_Tmin</th>\n",
       "      <th>year</th>\n",
       "      <th>month</th>\n",
       "      <th>day</th>\n",
       "    </tr>\n",
       "  </thead>\n",
       "  <tbody>\n",
       "    <tr>\n",
       "      <th>count</th>\n",
       "      <td>7588.000000</td>\n",
       "      <td>7588.000000</td>\n",
       "      <td>7588.000000</td>\n",
       "      <td>7588.000000</td>\n",
       "      <td>7588.000000</td>\n",
       "      <td>7588.000000</td>\n",
       "      <td>7588.000000</td>\n",
       "      <td>7588.000000</td>\n",
       "      <td>7588.000000</td>\n",
       "      <td>7588.000000</td>\n",
       "      <td>...</td>\n",
       "      <td>7588.000000</td>\n",
       "      <td>7588.00000</td>\n",
       "      <td>7588.000000</td>\n",
       "      <td>7588.000000</td>\n",
       "      <td>7588.000000</td>\n",
       "      <td>7588.000000</td>\n",
       "      <td>7588.000000</td>\n",
       "      <td>7588.000000</td>\n",
       "      <td>7588.000000</td>\n",
       "      <td>7588.000000</td>\n",
       "    </tr>\n",
       "    <tr>\n",
       "      <th>mean</th>\n",
       "      <td>13.014101</td>\n",
       "      <td>29.748366</td>\n",
       "      <td>23.195809</td>\n",
       "      <td>56.724969</td>\n",
       "      <td>88.360823</td>\n",
       "      <td>29.620128</td>\n",
       "      <td>23.511786</td>\n",
       "      <td>7.094097</td>\n",
       "      <td>62.492606</td>\n",
       "      <td>0.368510</td>\n",
       "      <td>...</td>\n",
       "      <td>37.544792</td>\n",
       "      <td>126.99142</td>\n",
       "      <td>61.918136</td>\n",
       "      <td>1.259755</td>\n",
       "      <td>5343.724208</td>\n",
       "      <td>30.241526</td>\n",
       "      <td>22.910820</td>\n",
       "      <td>2014.991697</td>\n",
       "      <td>7.068134</td>\n",
       "      <td>16.337375</td>\n",
       "    </tr>\n",
       "    <tr>\n",
       "      <th>std</th>\n",
       "      <td>7.217858</td>\n",
       "      <td>2.967401</td>\n",
       "      <td>2.400880</td>\n",
       "      <td>14.626559</td>\n",
       "      <td>7.199456</td>\n",
       "      <td>2.943496</td>\n",
       "      <td>2.342579</td>\n",
       "      <td>2.177034</td>\n",
       "      <td>33.686158</td>\n",
       "      <td>0.262260</td>\n",
       "      <td>...</td>\n",
       "      <td>0.050428</td>\n",
       "      <td>0.07922</td>\n",
       "      <td>54.323529</td>\n",
       "      <td>1.372748</td>\n",
       "      <td>429.782561</td>\n",
       "      <td>3.111807</td>\n",
       "      <td>2.482256</td>\n",
       "      <td>1.410877</td>\n",
       "      <td>2.242389</td>\n",
       "      <td>8.216880</td>\n",
       "    </tr>\n",
       "    <tr>\n",
       "      <th>min</th>\n",
       "      <td>1.000000</td>\n",
       "      <td>20.000000</td>\n",
       "      <td>11.300000</td>\n",
       "      <td>19.794666</td>\n",
       "      <td>58.936283</td>\n",
       "      <td>17.624954</td>\n",
       "      <td>14.272646</td>\n",
       "      <td>2.882580</td>\n",
       "      <td>-13.603212</td>\n",
       "      <td>0.000000</td>\n",
       "      <td>...</td>\n",
       "      <td>37.456200</td>\n",
       "      <td>126.82600</td>\n",
       "      <td>12.370000</td>\n",
       "      <td>0.098500</td>\n",
       "      <td>4329.520508</td>\n",
       "      <td>17.400000</td>\n",
       "      <td>11.300000</td>\n",
       "      <td>2013.000000</td>\n",
       "      <td>1.000000</td>\n",
       "      <td>7.000000</td>\n",
       "    </tr>\n",
       "    <tr>\n",
       "      <th>25%</th>\n",
       "      <td>7.000000</td>\n",
       "      <td>27.800000</td>\n",
       "      <td>21.600000</td>\n",
       "      <td>45.960243</td>\n",
       "      <td>84.203724</td>\n",
       "      <td>27.673756</td>\n",
       "      <td>22.086820</td>\n",
       "      <td>5.675358</td>\n",
       "      <td>37.206201</td>\n",
       "      <td>0.146546</td>\n",
       "      <td>...</td>\n",
       "      <td>37.510200</td>\n",
       "      <td>126.93700</td>\n",
       "      <td>28.700000</td>\n",
       "      <td>0.271300</td>\n",
       "      <td>5001.485717</td>\n",
       "      <td>28.200000</td>\n",
       "      <td>21.300000</td>\n",
       "      <td>2014.000000</td>\n",
       "      <td>7.000000</td>\n",
       "      <td>8.000000</td>\n",
       "    </tr>\n",
       "    <tr>\n",
       "      <th>50%</th>\n",
       "      <td>13.000000</td>\n",
       "      <td>29.900000</td>\n",
       "      <td>23.400000</td>\n",
       "      <td>55.023199</td>\n",
       "      <td>89.784122</td>\n",
       "      <td>29.709537</td>\n",
       "      <td>23.758249</td>\n",
       "      <td>6.547838</td>\n",
       "      <td>56.898324</td>\n",
       "      <td>0.315706</td>\n",
       "      <td>...</td>\n",
       "      <td>37.550700</td>\n",
       "      <td>126.99500</td>\n",
       "      <td>45.716000</td>\n",
       "      <td>0.618000</td>\n",
       "      <td>5441.987305</td>\n",
       "      <td>30.400000</td>\n",
       "      <td>23.100000</td>\n",
       "      <td>2015.000000</td>\n",
       "      <td>7.000000</td>\n",
       "      <td>16.000000</td>\n",
       "    </tr>\n",
       "    <tr>\n",
       "      <th>75%</th>\n",
       "      <td>19.000000</td>\n",
       "      <td>32.000000</td>\n",
       "      <td>24.800000</td>\n",
       "      <td>67.115099</td>\n",
       "      <td>93.742725</td>\n",
       "      <td>31.711109</td>\n",
       "      <td>25.155660</td>\n",
       "      <td>8.028960</td>\n",
       "      <td>84.235666</td>\n",
       "      <td>0.574174</td>\n",
       "      <td>...</td>\n",
       "      <td>37.577600</td>\n",
       "      <td>127.04200</td>\n",
       "      <td>59.832400</td>\n",
       "      <td>1.767800</td>\n",
       "      <td>5729.485840</td>\n",
       "      <td>32.600000</td>\n",
       "      <td>24.600000</td>\n",
       "      <td>2016.000000</td>\n",
       "      <td>8.000000</td>\n",
       "      <td>24.000000</td>\n",
       "    </tr>\n",
       "    <tr>\n",
       "      <th>max</th>\n",
       "      <td>25.000000</td>\n",
       "      <td>37.600000</td>\n",
       "      <td>29.900000</td>\n",
       "      <td>98.524734</td>\n",
       "      <td>100.000153</td>\n",
       "      <td>38.542255</td>\n",
       "      <td>29.619342</td>\n",
       "      <td>21.857621</td>\n",
       "      <td>213.414006</td>\n",
       "      <td>0.967277</td>\n",
       "      <td>...</td>\n",
       "      <td>37.645000</td>\n",
       "      <td>127.13500</td>\n",
       "      <td>212.335000</td>\n",
       "      <td>5.178200</td>\n",
       "      <td>5992.895996</td>\n",
       "      <td>38.900000</td>\n",
       "      <td>29.800000</td>\n",
       "      <td>2017.000000</td>\n",
       "      <td>12.000000</td>\n",
       "      <td>31.000000</td>\n",
       "    </tr>\n",
       "  </tbody>\n",
       "</table>\n",
       "<p>8 rows × 27 columns</p>\n",
       "</div>"
      ],
      "text/plain": [
       "           station  Present_Tmax  Present_Tmin  LDAPS_RHmin  LDAPS_RHmax  \\\n",
       "count  7588.000000   7588.000000   7588.000000  7588.000000  7588.000000   \n",
       "mean     13.014101     29.748366     23.195809    56.724969    88.360823   \n",
       "std       7.217858      2.967401      2.400880    14.626559     7.199456   \n",
       "min       1.000000     20.000000     11.300000    19.794666    58.936283   \n",
       "25%       7.000000     27.800000     21.600000    45.960243    84.203724   \n",
       "50%      13.000000     29.900000     23.400000    55.023199    89.784122   \n",
       "75%      19.000000     32.000000     24.800000    67.115099    93.742725   \n",
       "max      25.000000     37.600000     29.900000    98.524734   100.000153   \n",
       "\n",
       "       LDAPS_Tmax_lapse  LDAPS_Tmin_lapse     LDAPS_WS     LDAPS_LH  \\\n",
       "count       7588.000000       7588.000000  7588.000000  7588.000000   \n",
       "mean          29.620128         23.511786     7.094097    62.492606   \n",
       "std            2.943496          2.342579     2.177034    33.686158   \n",
       "min           17.624954         14.272646     2.882580   -13.603212   \n",
       "25%           27.673756         22.086820     5.675358    37.206201   \n",
       "50%           29.709537         23.758249     6.547838    56.898324   \n",
       "75%           31.711109         25.155660     8.028960    84.235666   \n",
       "max           38.542255         29.619342    21.857621   213.414006   \n",
       "\n",
       "         LDAPS_CC1  ...          lat         lon          DEM        Slope  \\\n",
       "count  7588.000000  ...  7588.000000  7588.00000  7588.000000  7588.000000   \n",
       "mean      0.368510  ...    37.544792   126.99142    61.918136     1.259755   \n",
       "std       0.262260  ...     0.050428     0.07922    54.323529     1.372748   \n",
       "min       0.000000  ...    37.456200   126.82600    12.370000     0.098500   \n",
       "25%       0.146546  ...    37.510200   126.93700    28.700000     0.271300   \n",
       "50%       0.315706  ...    37.550700   126.99500    45.716000     0.618000   \n",
       "75%       0.574174  ...    37.577600   127.04200    59.832400     1.767800   \n",
       "max       0.967277  ...    37.645000   127.13500   212.335000     5.178200   \n",
       "\n",
       "       Solar radiation    Next_Tmax    Next_Tmin         year        month  \\\n",
       "count      7588.000000  7588.000000  7588.000000  7588.000000  7588.000000   \n",
       "mean       5343.724208    30.241526    22.910820  2014.991697     7.068134   \n",
       "std         429.782561     3.111807     2.482256     1.410877     2.242389   \n",
       "min        4329.520508    17.400000    11.300000  2013.000000     1.000000   \n",
       "25%        5001.485717    28.200000    21.300000  2014.000000     7.000000   \n",
       "50%        5441.987305    30.400000    23.100000  2015.000000     7.000000   \n",
       "75%        5729.485840    32.600000    24.600000  2016.000000     8.000000   \n",
       "max        5992.895996    38.900000    29.800000  2017.000000    12.000000   \n",
       "\n",
       "               day  \n",
       "count  7588.000000  \n",
       "mean     16.337375  \n",
       "std       8.216880  \n",
       "min       7.000000  \n",
       "25%       8.000000  \n",
       "50%      16.000000  \n",
       "75%      24.000000  \n",
       "max      31.000000  \n",
       "\n",
       "[8 rows x 27 columns]"
      ]
     },
     "execution_count": 13,
     "metadata": {},
     "output_type": "execute_result"
    }
   ],
   "source": [
    "cleaned_data.describe() #Checking statistical information of our cleaned data "
   ]
  },
  {
   "cell_type": "code",
   "execution_count": null,
   "metadata": {},
   "outputs": [],
   "source": []
  },
  {
   "cell_type": "code",
   "execution_count": 14,
   "metadata": {},
   "outputs": [
    {
     "data": {
      "image/png": "[encoded data removed]",
      "text/plain": [
       "<Figure size 1440x1440 with 27 Axes>"
      ]
     },
     "metadata": {},
     "output_type": "display_data"
    }
   ],
   "source": [
    "# Visualizing the distribution of our dataset\n",
    "plt.figure(figsize =(20,20), facecolor = 'white')\n",
    "plotnumber=1\n",
    "\n",
    "for column in cleaned_data.columns:\n",
    "    if plotnumber<=30:\n",
    "        ax=plt.subplot(6,5,plotnumber)\n",
    "        sns.distplot(cleaned_data[column])\n",
    "        plt.xlabel(column,fontsize=15)\n",
    "    plotnumber+=1\n",
    "plt.tight_layout()"
   ]
  },
  {
   "cell_type": "markdown",
   "metadata": {},
   "source": [
    "### Splitting our data"
   ]
  },
  {
   "cell_type": "code",
   "execution_count": 15,
   "metadata": {},
   "outputs": [],
   "source": [
    "X = cleaned_data.drop(['Next_Tmax','Next_Tmin'],axis=1)\n",
    "\n",
    "y_max = cleaned_data[\"Next_Tmax\"] # target variable1\n",
    "y_min = cleaned_data[\"Next_Tmin\"] # target variable2"
   ]
  },
  {
   "cell_type": "markdown",
   "metadata": {},
   "source": [
    "### Scaling"
   ]
  },
  {
   "cell_type": "code",
   "execution_count": 16,
   "metadata": {},
   "outputs": [],
   "source": [
    "from sklearn.preprocessing import MinMaxScaler # Scaling our feature data\n",
    "scaler = MinMaxScaler()\n",
    "x_scaler = scaler.fit_transform(X)"
   ]
  },
  {
   "cell_type": "code",
   "execution_count": 17,
   "metadata": {},
   "outputs": [],
   "source": [
    "x_train, x_test, y_train, y_test  = train_test_split(x_scaler,y_max,test_size = 0.20, random_state=12) #For target variable1\n",
    "X_train, X_test, Y_train, Y_test  = train_test_split(x_scaler,y_min,test_size = 0.20, random_state=12) #For target variable2"
   ]
  },
  {
   "cell_type": "markdown",
   "metadata": {},
   "source": [
    "## Model building"
   ]
  },
  {
   "cell_type": "markdown",
   "metadata": {},
   "source": [
    "### Linear regression Model"
   ]
  },
  {
   "cell_type": "code",
   "execution_count": 18,
   "metadata": {},
   "outputs": [
    {
     "data": {
      "text/plain": [
       "LinearRegression()"
      ]
     },
     "execution_count": 18,
     "metadata": {},
     "output_type": "execute_result"
    }
   ],
   "source": [
    "from sklearn.linear_model import LinearRegression\n",
    "regression = LinearRegression()\n",
    "regression.fit(x_train, y_train) # for target variable 1"
   ]
  },
  {
   "cell_type": "code",
   "execution_count": 19,
   "metadata": {},
   "outputs": [
    {
     "data": {
      "text/plain": [
       "0.7860810009545337"
      ]
     },
     "execution_count": 19,
     "metadata": {},
     "output_type": "execute_result"
    }
   ],
   "source": [
    "regression.score(x_train, y_train)"
   ]
  },
  {
   "cell_type": "code",
   "execution_count": 20,
   "metadata": {},
   "outputs": [],
   "source": [
    "y_pred1_LinearRegression = regression.predict(x_test) # Prediction"
   ]
  },
  {
   "cell_type": "code",
   "execution_count": 21,
   "metadata": {},
   "outputs": [
    {
     "data": {
      "text/plain": [
       "0.7746210942711758"
      ]
     },
     "execution_count": 21,
     "metadata": {},
     "output_type": "execute_result"
    }
   ],
   "source": [
    "regression.score(x_test, y_test)"
   ]
  },
  {
   "cell_type": "code",
   "execution_count": 22,
   "metadata": {},
   "outputs": [
    {
     "name": "stdout",
     "output_type": "stream",
     "text": [
      "MAE: 1.1259199477649457\n",
      "MSE: 2.223800878675291\n",
      "RMSE: 1.0610937506954536\n"
     ]
    }
   ],
   "source": [
    "from sklearn import metrics\n",
    "print('MAE:', metrics.mean_absolute_error(y_test, y_pred1_LinearRegression))\n",
    "print('MSE:', metrics.mean_squared_error(y_test, y_pred1_LinearRegression))\n",
    "print('RMSE:', np.sqrt(metrics.mean_absolute_error(y_test, y_pred1_LinearRegression)))"
   ]
  },
  {
   "cell_type": "code",
   "execution_count": null,
   "metadata": {},
   "outputs": [],
   "source": []
  },
  {
   "cell_type": "code",
   "execution_count": null,
   "metadata": {},
   "outputs": [],
   "source": []
  },
  {
   "cell_type": "code",
   "execution_count": 23,
   "metadata": {},
   "outputs": [
    {
     "data": {
      "text/plain": [
       "LinearRegression()"
      ]
     },
     "execution_count": 23,
     "metadata": {},
     "output_type": "execute_result"
    }
   ],
   "source": [
    "regression.fit(X_train, Y_train) # for target variable 2"
   ]
  },
  {
   "cell_type": "code",
   "execution_count": 24,
   "metadata": {},
   "outputs": [
    {
     "data": {
      "text/plain": [
       "0.8390839025682598"
      ]
     },
     "execution_count": 24,
     "metadata": {},
     "output_type": "execute_result"
    }
   ],
   "source": [
    "regression.score(X_train, Y_train)"
   ]
  },
  {
   "cell_type": "code",
   "execution_count": 25,
   "metadata": {},
   "outputs": [],
   "source": [
    "y_pred2_LinearRegression = regression.predict(X_test) # Prediction"
   ]
  },
  {
   "cell_type": "code",
   "execution_count": 26,
   "metadata": {},
   "outputs": [
    {
     "data": {
      "text/plain": [
       "0.8266957290448911"
      ]
     },
     "execution_count": 26,
     "metadata": {},
     "output_type": "execute_result"
    }
   ],
   "source": [
    "regression.score(X_test, Y_test)"
   ]
  },
  {
   "cell_type": "code",
   "execution_count": 27,
   "metadata": {},
   "outputs": [
    {
     "name": "stdout",
     "output_type": "stream",
     "text": [
      "MAE: 0.7951552982469524\n",
      "MSE: 1.0477918210782373\n",
      "RMSE: 0.8917148076862649\n"
     ]
    }
   ],
   "source": [
    "print('MAE:', metrics.mean_absolute_error(Y_test, y_pred2_LinearRegression))\n",
    "print('MSE:', metrics.mean_squared_error(Y_test, y_pred2_LinearRegression))\n",
    "print('RMSE:', np.sqrt(metrics.mean_absolute_error(Y_test, y_pred2_LinearRegression)))"
   ]
  },
  {
   "cell_type": "code",
   "execution_count": null,
   "metadata": {},
   "outputs": [],
   "source": []
  },
  {
   "cell_type": "markdown",
   "metadata": {},
   "source": [
    "### Support vector regression model"
   ]
  },
  {
   "cell_type": "code",
   "execution_count": 28,
   "metadata": {},
   "outputs": [
    {
     "data": {
      "text/plain": [
       "SVR()"
      ]
     },
     "execution_count": 28,
     "metadata": {},
     "output_type": "execute_result"
    }
   ],
   "source": [
    "from sklearn.svm import SVR\n",
    "sv_regressor = SVR(kernel = 'rbf')\n",
    "sv_regressor.fit(x_train, y_train) # for target variable 1"
   ]
  },
  {
   "cell_type": "code",
   "execution_count": 29,
   "metadata": {},
   "outputs": [
    {
     "data": {
      "text/plain": [
       "0.8613958256174172"
      ]
     },
     "execution_count": 29,
     "metadata": {},
     "output_type": "execute_result"
    }
   ],
   "source": [
    "sv_regressor.score(x_train, y_train)"
   ]
  },
  {
   "cell_type": "code",
   "execution_count": 30,
   "metadata": {},
   "outputs": [],
   "source": [
    "y_pred1_SVRegression = sv_regressor.predict(x_test) # Prediction"
   ]
  },
  {
   "cell_type": "code",
   "execution_count": 31,
   "metadata": {},
   "outputs": [
    {
     "data": {
      "text/plain": [
       "0.8454457747333906"
      ]
     },
     "execution_count": 31,
     "metadata": {},
     "output_type": "execute_result"
    }
   ],
   "source": [
    "sv_regressor.score(x_test, y_test)"
   ]
  },
  {
   "cell_type": "code",
   "execution_count": 32,
   "metadata": {},
   "outputs": [
    {
     "name": "stdout",
     "output_type": "stream",
     "text": [
      "MAE: 0.886473092189975\n",
      "MSE: 1.524977773937735\n",
      "RMSE: 0.9415270002448018\n"
     ]
    }
   ],
   "source": [
    "print('MAE:', metrics.mean_absolute_error(y_test, y_pred1_SVRegression))\n",
    "print('MSE:', metrics.mean_squared_error(y_test, y_pred1_SVRegression))\n",
    "print('RMSE:', np.sqrt(metrics.mean_absolute_error(y_test, y_pred1_SVRegression)))"
   ]
  },
  {
   "cell_type": "code",
   "execution_count": null,
   "metadata": {},
   "outputs": [],
   "source": []
  },
  {
   "cell_type": "code",
   "execution_count": 33,
   "metadata": {},
   "outputs": [
    {
     "data": {
      "text/plain": [
       "SVR()"
      ]
     },
     "execution_count": 33,
     "metadata": {},
     "output_type": "execute_result"
    }
   ],
   "source": [
    "sv_regressor.fit(X_train, Y_train) # for target variable 2"
   ]
  },
  {
   "cell_type": "code",
   "execution_count": 34,
   "metadata": {},
   "outputs": [
    {
     "data": {
      "text/plain": [
       "0.9036295062968843"
      ]
     },
     "execution_count": 34,
     "metadata": {},
     "output_type": "execute_result"
    }
   ],
   "source": [
    "sv_regressor.score(X_train, Y_train)"
   ]
  },
  {
   "cell_type": "code",
   "execution_count": 35,
   "metadata": {},
   "outputs": [],
   "source": [
    "y_pred2_SVRegression = sv_regressor.predict(X_test) # Prediction"
   ]
  },
  {
   "cell_type": "code",
   "execution_count": 36,
   "metadata": {},
   "outputs": [
    {
     "data": {
      "text/plain": [
       "0.8870089635346786"
      ]
     },
     "execution_count": 36,
     "metadata": {},
     "output_type": "execute_result"
    }
   ],
   "source": [
    "sv_regressor.score(X_test, Y_test)"
   ]
  },
  {
   "cell_type": "code",
   "execution_count": 37,
   "metadata": {},
   "outputs": [
    {
     "name": "stdout",
     "output_type": "stream",
     "text": [
      "MAE: 0.6157762590891533\n",
      "MSE: 0.6831400242535479\n",
      "RMSE: 0.7847141257102189\n"
     ]
    }
   ],
   "source": [
    "print('MAE:', metrics.mean_absolute_error(Y_test, y_pred2_SVRegression))\n",
    "print('MSE:', metrics.mean_squared_error(Y_test, y_pred2_SVRegression))\n",
    "print('RMSE:', np.sqrt(metrics.mean_absolute_error(Y_test, y_pred2_SVRegression)))"
   ]
  },
  {
   "cell_type": "markdown",
   "metadata": {},
   "source": [
    "### Decision Tree regressor model"
   ]
  },
  {
   "cell_type": "code",
   "execution_count": 38,
   "metadata": {},
   "outputs": [
    {
     "data": {
      "text/plain": [
       "DecisionTreeRegressor()"
      ]
     },
     "execution_count": 38,
     "metadata": {},
     "output_type": "execute_result"
    }
   ],
   "source": [
    "from sklearn.tree import DecisionTreeRegressor\n",
    "\n",
    "\n",
    "dt = DecisionTreeRegressor()\n",
    "dt.fit(x_train, y_train) # Training the model for target variable 1"
   ]
  },
  {
   "cell_type": "code",
   "execution_count": 39,
   "metadata": {},
   "outputs": [
    {
     "data": {
      "text/plain": [
       "1.0"
      ]
     },
     "execution_count": 39,
     "metadata": {},
     "output_type": "execute_result"
    }
   ],
   "source": [
    "dt.score(x_train, y_train) # scores for training"
   ]
  },
  {
   "cell_type": "code",
   "execution_count": 40,
   "metadata": {},
   "outputs": [],
   "source": [
    "y_pred1_DTRegression = dt.predict(x_test) # Prediction"
   ]
  },
  {
   "cell_type": "code",
   "execution_count": 41,
   "metadata": {},
   "outputs": [
    {
     "data": {
      "text/plain": [
       "0.8015752401910041"
      ]
     },
     "execution_count": 41,
     "metadata": {},
     "output_type": "execute_result"
    }
   ],
   "source": [
    "dt.score(x_test, y_test)"
   ]
  },
  {
   "cell_type": "code",
   "execution_count": 42,
   "metadata": {},
   "outputs": [
    {
     "name": "stdout",
     "output_type": "stream",
     "text": [
      "MAE: 1.012977602108037\n",
      "MSE: 1.9578458498023714\n",
      "RMSE: 1.0064678842904213\n"
     ]
    }
   ],
   "source": [
    "print('MAE:', metrics.mean_absolute_error(y_test, y_pred1_DTRegression))\n",
    "print('MSE:', metrics.mean_squared_error(y_test, y_pred1_DTRegression))\n",
    "print('RMSE:', np.sqrt(metrics.mean_absolute_error(y_test, y_pred1_DTRegression)))"
   ]
  },
  {
   "cell_type": "code",
   "execution_count": null,
   "metadata": {},
   "outputs": [],
   "source": []
  },
  {
   "cell_type": "code",
   "execution_count": 43,
   "metadata": {},
   "outputs": [
    {
     "data": {
      "text/plain": [
       "DecisionTreeRegressor()"
      ]
     },
     "execution_count": 43,
     "metadata": {},
     "output_type": "execute_result"
    }
   ],
   "source": [
    "dt.fit(X_train, Y_train) # for target variable 2"
   ]
  },
  {
   "cell_type": "code",
   "execution_count": 44,
   "metadata": {},
   "outputs": [
    {
     "data": {
      "text/plain": [
       "1.0"
      ]
     },
     "execution_count": 44,
     "metadata": {},
     "output_type": "execute_result"
    }
   ],
   "source": [
    "dt.score(X_train, Y_train)"
   ]
  },
  {
   "cell_type": "code",
   "execution_count": 45,
   "metadata": {},
   "outputs": [],
   "source": [
    "y_pred2_DTRegression = dt.predict(X_test) # Prediction"
   ]
  },
  {
   "cell_type": "code",
   "execution_count": 46,
   "metadata": {},
   "outputs": [
    {
     "data": {
      "text/plain": [
       "0.7918406645687917"
      ]
     },
     "execution_count": 46,
     "metadata": {},
     "output_type": "execute_result"
    }
   ],
   "source": [
    "dt.score(X_test, Y_test)"
   ]
  },
  {
   "cell_type": "code",
   "execution_count": 47,
   "metadata": {},
   "outputs": [
    {
     "name": "stdout",
     "output_type": "stream",
     "text": [
      "MAE: 0.8189723320158103\n",
      "MSE: 1.2585243741765482\n",
      "RMSE: 0.9049709011983813\n"
     ]
    }
   ],
   "source": [
    "print('MAE:', metrics.mean_absolute_error(Y_test, y_pred2_DTRegression))\n",
    "print('MSE:', metrics.mean_squared_error(Y_test, y_pred2_DTRegression))\n",
    "print('RMSE:', np.sqrt(metrics.mean_absolute_error(Y_test, y_pred2_DTRegression)))"
   ]
  },
  {
   "cell_type": "code",
   "execution_count": null,
   "metadata": {},
   "outputs": [],
   "source": []
  },
  {
   "cell_type": "markdown",
   "metadata": {},
   "source": [
    "### Random forest Regressor"
   ]
  },
  {
   "cell_type": "code",
   "execution_count": 48,
   "metadata": {},
   "outputs": [
    {
     "data": {
      "text/plain": [
       "RandomForestRegressor()"
      ]
     },
     "execution_count": 48,
     "metadata": {},
     "output_type": "execute_result"
    }
   ],
   "source": [
    "from sklearn.ensemble import RandomForestRegressor\n",
    "rf = RandomForestRegressor()\n",
    "rf.fit(x_train, y_train) # for target variable 1"
   ]
  },
  {
   "cell_type": "code",
   "execution_count": 49,
   "metadata": {},
   "outputs": [
    {
     "data": {
      "text/plain": [
       "0.9874602519420829"
      ]
     },
     "execution_count": 49,
     "metadata": {},
     "output_type": "execute_result"
    }
   ],
   "source": [
    "rf.score(x_train, y_train)"
   ]
  },
  {
   "cell_type": "code",
   "execution_count": 50,
   "metadata": {},
   "outputs": [],
   "source": [
    "y_pred1_RFRegression = rf.predict(x_test) # Prediction"
   ]
  },
  {
   "cell_type": "code",
   "execution_count": 51,
   "metadata": {},
   "outputs": [
    {
     "data": {
      "text/plain": [
       "0.9137494455815276"
      ]
     },
     "execution_count": 51,
     "metadata": {},
     "output_type": "execute_result"
    }
   ],
   "source": [
    "rf.score(x_test, y_test)"
   ]
  },
  {
   "cell_type": "code",
   "execution_count": 52,
   "metadata": {},
   "outputs": [
    {
     "name": "stdout",
     "output_type": "stream",
     "text": [
      "MAE: 0.7009038208168639\n",
      "MSE: 0.851029328063241\n",
      "RMSE: 0.8371999885432775\n"
     ]
    }
   ],
   "source": [
    "print('MAE:', metrics.mean_absolute_error(y_test, y_pred1_RFRegression))\n",
    "print('MSE:', metrics.mean_squared_error(y_test, y_pred1_RFRegression))\n",
    "print('RMSE:', np.sqrt(metrics.mean_absolute_error(y_test, y_pred1_RFRegression)))"
   ]
  },
  {
   "cell_type": "code",
   "execution_count": null,
   "metadata": {},
   "outputs": [],
   "source": []
  },
  {
   "cell_type": "code",
   "execution_count": 53,
   "metadata": {},
   "outputs": [
    {
     "data": {
      "text/plain": [
       "RandomForestRegressor()"
      ]
     },
     "execution_count": 53,
     "metadata": {},
     "output_type": "execute_result"
    }
   ],
   "source": [
    "rf.fit(X_train, Y_train) # for target variable 2"
   ]
  },
  {
   "cell_type": "code",
   "execution_count": 54,
   "metadata": {},
   "outputs": [
    {
     "data": {
      "text/plain": [
       "0.9872254055596837"
      ]
     },
     "execution_count": 54,
     "metadata": {},
     "output_type": "execute_result"
    }
   ],
   "source": [
    "rf.score(X_train, Y_train)"
   ]
  },
  {
   "cell_type": "code",
   "execution_count": 55,
   "metadata": {},
   "outputs": [],
   "source": [
    "y_pred2_RFRegression = rf.predict(X_test) # Prediction"
   ]
  },
  {
   "cell_type": "code",
   "execution_count": 56,
   "metadata": {},
   "outputs": [
    {
     "data": {
      "text/plain": [
       "0.9034716119229449"
      ]
     },
     "execution_count": 56,
     "metadata": {},
     "output_type": "execute_result"
    }
   ],
   "source": [
    "rf.score(X_test, Y_test)"
   ]
  },
  {
   "cell_type": "code",
   "execution_count": 57,
   "metadata": {},
   "outputs": [
    {
     "name": "stdout",
     "output_type": "stream",
     "text": [
      "MAE: 0.5745032938076416\n",
      "MSE: 0.5836074031620554\n",
      "RMSE: 0.7579599552797243\n"
     ]
    }
   ],
   "source": [
    "print('MAE:', metrics.mean_absolute_error(Y_test, y_pred2_RFRegression))\n",
    "print('MSE:', metrics.mean_squared_error(Y_test, y_pred2_RFRegression))\n",
    "print('RMSE:', np.sqrt(metrics.mean_absolute_error(Y_test, y_pred2_RFRegression)))"
   ]
  },
  {
   "cell_type": "code",
   "execution_count": null,
   "metadata": {},
   "outputs": [],
   "source": []
  },
  {
   "cell_type": "markdown",
   "metadata": {},
   "source": [
    "## Let's save our model"
   ]
  },
  {
   "cell_type": "code",
   "execution_count": 58,
   "metadata": {},
   "outputs": [],
   "source": [
    "import pickle\n",
    "filename = \"Temperature_prediction\"\n",
    "pickle.dump(rf, open(filename,'wb'))"
   ]
  },
  {
   "cell_type": "code",
   "execution_count": null,
   "metadata": {},
   "outputs": [],
   "source": []
  }
 ],
 "metadata": {
  "kernelspec": {
   "display_name": "Python 3",
   "language": "python",
   "name": "python3"
  },
  "language_info": {
   "codemirror_mode": {
    "name": "ipython",
    "version": 3
   },
   "file_extension": ".py",
   "mimetype": "text/x-python",
   "name": "python",
   "nbconvert_exporter": "python",
   "pygments_lexer": "ipython3",
   "version": "3.8.5"
  }
 },
 "nbformat": 4,
 "nbformat_minor": 4
}
